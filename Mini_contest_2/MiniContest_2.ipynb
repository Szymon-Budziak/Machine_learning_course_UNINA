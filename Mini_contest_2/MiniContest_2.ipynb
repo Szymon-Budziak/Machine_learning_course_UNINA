{
 "cells": [
  {
   "cell_type": "markdown",
   "id": "1ca471d2",
   "metadata": {},
   "source": [
    "# UNINA - Machine Learning 22/23 - MiniContest n2\n",
    "---"
   ]
  },
  {
   "cell_type": "markdown",
   "id": "42607445",
   "metadata": {},
   "source": [
    "## Data preparation"
   ]
  },
  {
   "cell_type": "code",
   "execution_count": 1,
   "id": "c980551d",
   "metadata": {},
   "outputs": [],
   "source": [
    "import numpy as np\n",
    "import pandas as pd\n",
    "import matplotlib.pyplot as plt\n",
    "import seaborn as sns\n",
    "import warnings\n",
    "%matplotlib inline\n",
    "sns.set_style('whitegrid')"
   ]
  },
  {
   "cell_type": "markdown",
   "id": "4dac02bc",
   "metadata": {},
   "source": [
    "### raw data"
   ]
  },
  {
   "cell_type": "code",
   "execution_count": 2,
   "id": "ba89bd5f",
   "metadata": {},
   "outputs": [],
   "source": [
    "with warnings.catch_warnings(record=True):\n",
    "    df_raw = pd.read_excel(\"Training_raw.xlsx\", engine=\"openpyxl\")"
   ]
  },
  {
   "cell_type": "code",
   "execution_count": 3,
   "id": "84c120ab",
   "metadata": {},
   "outputs": [
    {
     "data": {
      "text/html": [
       "<div>\n",
       "<style scoped>\n",
       "    .dataframe tbody tr th:only-of-type {\n",
       "        vertical-align: middle;\n",
       "    }\n",
       "\n",
       "    .dataframe tbody tr th {\n",
       "        vertical-align: top;\n",
       "    }\n",
       "\n",
       "    .dataframe thead th {\n",
       "        text-align: right;\n",
       "    }\n",
       "</style>\n",
       "<table border=\"1\" class=\"dataframe\">\n",
       "  <thead>\n",
       "    <tr style=\"text-align: right;\">\n",
       "      <th></th>\n",
       "      <th>second</th>\n",
       "      <th>val_0</th>\n",
       "      <th>val_1</th>\n",
       "      <th>val_2</th>\n",
       "      <th>val_3</th>\n",
       "      <th>val_4</th>\n",
       "      <th>val_5</th>\n",
       "    </tr>\n",
       "  </thead>\n",
       "  <tbody>\n",
       "    <tr>\n",
       "      <th>0</th>\n",
       "      <td>0</td>\n",
       "      <td>41</td>\n",
       "      <td>49</td>\n",
       "      <td>95</td>\n",
       "      <td>120</td>\n",
       "      <td>47</td>\n",
       "      <td>46</td>\n",
       "    </tr>\n",
       "    <tr>\n",
       "      <th>1</th>\n",
       "      <td>0</td>\n",
       "      <td>41</td>\n",
       "      <td>49</td>\n",
       "      <td>95</td>\n",
       "      <td>120</td>\n",
       "      <td>47</td>\n",
       "      <td>46</td>\n",
       "    </tr>\n",
       "    <tr>\n",
       "      <th>2</th>\n",
       "      <td>0</td>\n",
       "      <td>41</td>\n",
       "      <td>49</td>\n",
       "      <td>95</td>\n",
       "      <td>121</td>\n",
       "      <td>48</td>\n",
       "      <td>47</td>\n",
       "    </tr>\n",
       "    <tr>\n",
       "      <th>3</th>\n",
       "      <td>0</td>\n",
       "      <td>41</td>\n",
       "      <td>49</td>\n",
       "      <td>95</td>\n",
       "      <td>121</td>\n",
       "      <td>47</td>\n",
       "      <td>47</td>\n",
       "    </tr>\n",
       "    <tr>\n",
       "      <th>4</th>\n",
       "      <td>0</td>\n",
       "      <td>41</td>\n",
       "      <td>49</td>\n",
       "      <td>95</td>\n",
       "      <td>121</td>\n",
       "      <td>47</td>\n",
       "      <td>47</td>\n",
       "    </tr>\n",
       "  </tbody>\n",
       "</table>\n",
       "</div>"
      ],
      "text/plain": [
       "   second  val_0  val_1  val_2  val_3  val_4  val_5\n",
       "0       0     41     49     95    120     47     46\n",
       "1       0     41     49     95    120     47     46\n",
       "2       0     41     49     95    121     48     47\n",
       "3       0     41     49     95    121     47     47\n",
       "4       0     41     49     95    121     47     47"
      ]
     },
     "execution_count": 3,
     "metadata": {},
     "output_type": "execute_result"
    }
   ],
   "source": [
    "df_raw.head()"
   ]
  },
  {
   "cell_type": "code",
   "execution_count": 4,
   "id": "0cc12276",
   "metadata": {},
   "outputs": [
    {
     "name": "stdout",
     "output_type": "stream",
     "text": [
      "<class 'pandas.core.frame.DataFrame'>\n",
      "RangeIndex: 567296 entries, 0 to 567295\n",
      "Data columns (total 7 columns):\n",
      " #   Column  Non-Null Count   Dtype\n",
      "---  ------  --------------   -----\n",
      " 0   second  567296 non-null  int64\n",
      " 1   val_0   567296 non-null  int64\n",
      " 2   val_1   567296 non-null  int64\n",
      " 3   val_2   567296 non-null  int64\n",
      " 4   val_3   567296 non-null  int64\n",
      " 5   val_4   567296 non-null  int64\n",
      " 6   val_5   567296 non-null  int64\n",
      "dtypes: int64(7)\n",
      "memory usage: 30.3 MB\n"
     ]
    }
   ],
   "source": [
    "df_raw.info()"
   ]
  },
  {
   "cell_type": "code",
   "execution_count": 5,
   "id": "dd7e5091",
   "metadata": {},
   "outputs": [
    {
     "data": {
      "text/html": [
       "<div>\n",
       "<style scoped>\n",
       "    .dataframe tbody tr th:only-of-type {\n",
       "        vertical-align: middle;\n",
       "    }\n",
       "\n",
       "    .dataframe tbody tr th {\n",
       "        vertical-align: top;\n",
       "    }\n",
       "\n",
       "    .dataframe thead th {\n",
       "        text-align: right;\n",
       "    }\n",
       "</style>\n",
       "<table border=\"1\" class=\"dataframe\">\n",
       "  <thead>\n",
       "    <tr style=\"text-align: right;\">\n",
       "      <th></th>\n",
       "      <th>count</th>\n",
       "      <th>mean</th>\n",
       "      <th>std</th>\n",
       "      <th>min</th>\n",
       "      <th>25%</th>\n",
       "      <th>50%</th>\n",
       "      <th>75%</th>\n",
       "      <th>max</th>\n",
       "    </tr>\n",
       "  </thead>\n",
       "  <tbody>\n",
       "    <tr>\n",
       "      <th>second</th>\n",
       "      <td>567296.0</td>\n",
       "      <td>499.501680</td>\n",
       "      <td>290.536868</td>\n",
       "      <td>0.0</td>\n",
       "      <td>250.0</td>\n",
       "      <td>502.0</td>\n",
       "      <td>748.0</td>\n",
       "      <td>1001.0</td>\n",
       "    </tr>\n",
       "    <tr>\n",
       "      <th>val_0</th>\n",
       "      <td>567296.0</td>\n",
       "      <td>52.516512</td>\n",
       "      <td>32.244423</td>\n",
       "      <td>4.0</td>\n",
       "      <td>19.0</td>\n",
       "      <td>51.0</td>\n",
       "      <td>87.0</td>\n",
       "      <td>424.0</td>\n",
       "    </tr>\n",
       "    <tr>\n",
       "      <th>val_1</th>\n",
       "      <td>567296.0</td>\n",
       "      <td>50.416340</td>\n",
       "      <td>31.412104</td>\n",
       "      <td>5.0</td>\n",
       "      <td>20.0</td>\n",
       "      <td>44.0</td>\n",
       "      <td>82.0</td>\n",
       "      <td>214.0</td>\n",
       "    </tr>\n",
       "    <tr>\n",
       "      <th>val_2</th>\n",
       "      <td>567296.0</td>\n",
       "      <td>61.374905</td>\n",
       "      <td>38.249684</td>\n",
       "      <td>4.0</td>\n",
       "      <td>20.0</td>\n",
       "      <td>71.0</td>\n",
       "      <td>99.0</td>\n",
       "      <td>206.0</td>\n",
       "    </tr>\n",
       "    <tr>\n",
       "      <th>val_3</th>\n",
       "      <td>567296.0</td>\n",
       "      <td>101.994865</td>\n",
       "      <td>81.212673</td>\n",
       "      <td>4.0</td>\n",
       "      <td>15.0</td>\n",
       "      <td>110.0</td>\n",
       "      <td>184.0</td>\n",
       "      <td>351.0</td>\n",
       "    </tr>\n",
       "    <tr>\n",
       "      <th>val_4</th>\n",
       "      <td>567296.0</td>\n",
       "      <td>90.534931</td>\n",
       "      <td>80.356453</td>\n",
       "      <td>4.0</td>\n",
       "      <td>18.0</td>\n",
       "      <td>44.0</td>\n",
       "      <td>194.0</td>\n",
       "      <td>333.0</td>\n",
       "    </tr>\n",
       "    <tr>\n",
       "      <th>val_5</th>\n",
       "      <td>567296.0</td>\n",
       "      <td>105.675677</td>\n",
       "      <td>72.540199</td>\n",
       "      <td>4.0</td>\n",
       "      <td>25.0</td>\n",
       "      <td>128.0</td>\n",
       "      <td>179.0</td>\n",
       "      <td>392.0</td>\n",
       "    </tr>\n",
       "  </tbody>\n",
       "</table>\n",
       "</div>"
      ],
      "text/plain": [
       "           count        mean         std  min    25%    50%    75%     max\n",
       "second  567296.0  499.501680  290.536868  0.0  250.0  502.0  748.0  1001.0\n",
       "val_0   567296.0   52.516512   32.244423  4.0   19.0   51.0   87.0   424.0\n",
       "val_1   567296.0   50.416340   31.412104  5.0   20.0   44.0   82.0   214.0\n",
       "val_2   567296.0   61.374905   38.249684  4.0   20.0   71.0   99.0   206.0\n",
       "val_3   567296.0  101.994865   81.212673  4.0   15.0  110.0  184.0   351.0\n",
       "val_4   567296.0   90.534931   80.356453  4.0   18.0   44.0  194.0   333.0\n",
       "val_5   567296.0  105.675677   72.540199  4.0   25.0  128.0  179.0   392.0"
      ]
     },
     "execution_count": 5,
     "metadata": {},
     "output_type": "execute_result"
    }
   ],
   "source": [
    "df_raw.describe().T"
   ]
  },
  {
   "cell_type": "code",
   "execution_count": 6,
   "id": "6f1f1463",
   "metadata": {},
   "outputs": [
    {
     "data": {
      "text/plain": [
       "False"
      ]
     },
     "execution_count": 6,
     "metadata": {},
     "output_type": "execute_result"
    }
   ],
   "source": [
    "(df_raw.isnull().sum() > 0 ).any()"
   ]
  },
  {
   "cell_type": "markdown",
   "id": "b73ab846",
   "metadata": {},
   "source": [
    "### preprocessed data"
   ]
  },
  {
   "cell_type": "code",
   "execution_count": 7,
   "id": "65583f2f",
   "metadata": {
    "scrolled": true
   },
   "outputs": [],
   "source": [
    "with warnings.catch_warnings(record=True):\n",
    "    df_prep = pd.read_excel(\"Training_preprocessed.xlsx\", engine=\"openpyxl\")"
   ]
  },
  {
   "cell_type": "code",
   "execution_count": 8,
   "id": "77d83182",
   "metadata": {
    "scrolled": true
   },
   "outputs": [
    {
     "data": {
      "text/html": [
       "<div>\n",
       "<style scoped>\n",
       "    .dataframe tbody tr th:only-of-type {\n",
       "        vertical-align: middle;\n",
       "    }\n",
       "\n",
       "    .dataframe tbody tr th {\n",
       "        vertical-align: top;\n",
       "    }\n",
       "\n",
       "    .dataframe thead th {\n",
       "        text-align: right;\n",
       "    }\n",
       "</style>\n",
       "<table border=\"1\" class=\"dataframe\">\n",
       "  <thead>\n",
       "    <tr style=\"text-align: right;\">\n",
       "      <th></th>\n",
       "      <th>second</th>\n",
       "      <th>val_0_min</th>\n",
       "      <th>val_1_min</th>\n",
       "      <th>val_2_min</th>\n",
       "      <th>val_3_min</th>\n",
       "      <th>val_4_min</th>\n",
       "      <th>val_5_min</th>\n",
       "      <th>val_0_max</th>\n",
       "      <th>val_1_max</th>\n",
       "      <th>val_2_max</th>\n",
       "      <th>...</th>\n",
       "      <th>val_3_std</th>\n",
       "      <th>val_4_std</th>\n",
       "      <th>val_5_std</th>\n",
       "      <th>val_0_var</th>\n",
       "      <th>val_1_var</th>\n",
       "      <th>val_2_var</th>\n",
       "      <th>val_3_var</th>\n",
       "      <th>val_4_var</th>\n",
       "      <th>val_5_var</th>\n",
       "      <th>class</th>\n",
       "    </tr>\n",
       "  </thead>\n",
       "  <tbody>\n",
       "    <tr>\n",
       "      <th>0</th>\n",
       "      <td>0</td>\n",
       "      <td>41</td>\n",
       "      <td>49</td>\n",
       "      <td>95</td>\n",
       "      <td>120</td>\n",
       "      <td>47</td>\n",
       "      <td>46</td>\n",
       "      <td>41</td>\n",
       "      <td>50</td>\n",
       "      <td>96</td>\n",
       "      <td>...</td>\n",
       "      <td>0.470824</td>\n",
       "      <td>0.384426</td>\n",
       "      <td>0.435494</td>\n",
       "      <td>0.000000</td>\n",
       "      <td>0.147783</td>\n",
       "      <td>0.123153</td>\n",
       "      <td>0.221675</td>\n",
       "      <td>0.147783</td>\n",
       "      <td>0.189655</td>\n",
       "      <td>0.00</td>\n",
       "    </tr>\n",
       "    <tr>\n",
       "      <th>1</th>\n",
       "      <td>1</td>\n",
       "      <td>18</td>\n",
       "      <td>19</td>\n",
       "      <td>18</td>\n",
       "      <td>10</td>\n",
       "      <td>14</td>\n",
       "      <td>17</td>\n",
       "      <td>46</td>\n",
       "      <td>76</td>\n",
       "      <td>103</td>\n",
       "      <td>...</td>\n",
       "      <td>38.948626</td>\n",
       "      <td>7.553299</td>\n",
       "      <td>3.295951</td>\n",
       "      <td>5.233212</td>\n",
       "      <td>34.764129</td>\n",
       "      <td>697.845107</td>\n",
       "      <td>1516.995484</td>\n",
       "      <td>57.052327</td>\n",
       "      <td>10.863294</td>\n",
       "      <td>0.10</td>\n",
       "    </tr>\n",
       "    <tr>\n",
       "      <th>2</th>\n",
       "      <td>2</td>\n",
       "      <td>23</td>\n",
       "      <td>32</td>\n",
       "      <td>15</td>\n",
       "      <td>11</td>\n",
       "      <td>16</td>\n",
       "      <td>31</td>\n",
       "      <td>48</td>\n",
       "      <td>65</td>\n",
       "      <td>98</td>\n",
       "      <td>...</td>\n",
       "      <td>40.252709</td>\n",
       "      <td>4.550546</td>\n",
       "      <td>1.860322</td>\n",
       "      <td>3.213855</td>\n",
       "      <td>18.106360</td>\n",
       "      <td>691.942503</td>\n",
       "      <td>1620.280581</td>\n",
       "      <td>20.707469</td>\n",
       "      <td>3.460800</td>\n",
       "      <td>0.29</td>\n",
       "    </tr>\n",
       "    <tr>\n",
       "      <th>3</th>\n",
       "      <td>3</td>\n",
       "      <td>26</td>\n",
       "      <td>25</td>\n",
       "      <td>19</td>\n",
       "      <td>15</td>\n",
       "      <td>16</td>\n",
       "      <td>32</td>\n",
       "      <td>48</td>\n",
       "      <td>70</td>\n",
       "      <td>102</td>\n",
       "      <td>...</td>\n",
       "      <td>39.295043</td>\n",
       "      <td>5.509494</td>\n",
       "      <td>2.184437</td>\n",
       "      <td>2.449684</td>\n",
       "      <td>27.190514</td>\n",
       "      <td>650.722495</td>\n",
       "      <td>1544.100420</td>\n",
       "      <td>30.354529</td>\n",
       "      <td>4.771767</td>\n",
       "      <td>0.48</td>\n",
       "    </tr>\n",
       "    <tr>\n",
       "      <th>4</th>\n",
       "      <td>4</td>\n",
       "      <td>23</td>\n",
       "      <td>30</td>\n",
       "      <td>20</td>\n",
       "      <td>12</td>\n",
       "      <td>19</td>\n",
       "      <td>33</td>\n",
       "      <td>46</td>\n",
       "      <td>69</td>\n",
       "      <td>108</td>\n",
       "      <td>...</td>\n",
       "      <td>40.876464</td>\n",
       "      <td>5.202366</td>\n",
       "      <td>1.715481</td>\n",
       "      <td>2.499633</td>\n",
       "      <td>23.186358</td>\n",
       "      <td>732.476140</td>\n",
       "      <td>1670.885299</td>\n",
       "      <td>27.064610</td>\n",
       "      <td>2.942875</td>\n",
       "      <td>0.68</td>\n",
       "    </tr>\n",
       "  </tbody>\n",
       "</table>\n",
       "<p>5 rows × 44 columns</p>\n",
       "</div>"
      ],
      "text/plain": [
       "   second  val_0_min  val_1_min  val_2_min  val_3_min  val_4_min  val_5_min  \\\n",
       "0       0         41         49         95        120         47         46   \n",
       "1       1         18         19         18         10         14         17   \n",
       "2       2         23         32         15         11         16         31   \n",
       "3       3         26         25         19         15         16         32   \n",
       "4       4         23         30         20         12         19         33   \n",
       "\n",
       "   val_0_max  val_1_max  val_2_max  ...  val_3_std  val_4_std  val_5_std  \\\n",
       "0         41         50         96  ...   0.470824   0.384426   0.435494   \n",
       "1         46         76        103  ...  38.948626   7.553299   3.295951   \n",
       "2         48         65         98  ...  40.252709   4.550546   1.860322   \n",
       "3         48         70        102  ...  39.295043   5.509494   2.184437   \n",
       "4         46         69        108  ...  40.876464   5.202366   1.715481   \n",
       "\n",
       "   val_0_var  val_1_var   val_2_var    val_3_var  val_4_var  val_5_var  class  \n",
       "0   0.000000   0.147783    0.123153     0.221675   0.147783   0.189655   0.00  \n",
       "1   5.233212  34.764129  697.845107  1516.995484  57.052327  10.863294   0.10  \n",
       "2   3.213855  18.106360  691.942503  1620.280581  20.707469   3.460800   0.29  \n",
       "3   2.449684  27.190514  650.722495  1544.100420  30.354529   4.771767   0.48  \n",
       "4   2.499633  23.186358  732.476140  1670.885299  27.064610   2.942875   0.68  \n",
       "\n",
       "[5 rows x 44 columns]"
      ]
     },
     "execution_count": 8,
     "metadata": {},
     "output_type": "execute_result"
    }
   ],
   "source": [
    "df_prep.head()"
   ]
  },
  {
   "cell_type": "code",
   "execution_count": 9,
   "id": "82aa6e2e",
   "metadata": {},
   "outputs": [
    {
     "name": "stdout",
     "output_type": "stream",
     "text": [
      "<class 'pandas.core.frame.DataFrame'>\n",
      "RangeIndex: 1002 entries, 0 to 1001\n",
      "Data columns (total 44 columns):\n",
      " #   Column      Non-Null Count  Dtype  \n",
      "---  ------      --------------  -----  \n",
      " 0   second      1002 non-null   int64  \n",
      " 1   val_0_min   1002 non-null   int64  \n",
      " 2   val_1_min   1002 non-null   int64  \n",
      " 3   val_2_min   1002 non-null   int64  \n",
      " 4   val_3_min   1002 non-null   int64  \n",
      " 5   val_4_min   1002 non-null   int64  \n",
      " 6   val_5_min   1002 non-null   int64  \n",
      " 7   val_0_max   1002 non-null   int64  \n",
      " 8   val_1_max   1002 non-null   int64  \n",
      " 9   val_2_max   1002 non-null   int64  \n",
      " 10  val_3_max   1002 non-null   int64  \n",
      " 11  val_4_max   1002 non-null   int64  \n",
      " 12  val_5_max   1002 non-null   int64  \n",
      " 13  val_0_mean  1002 non-null   float64\n",
      " 14  val_1_mean  1002 non-null   float64\n",
      " 15  val_2_mean  1002 non-null   float64\n",
      " 16  val_3_mean  1002 non-null   float64\n",
      " 17  val_4_mean  1002 non-null   float64\n",
      " 18  val_5_mean  1002 non-null   float64\n",
      " 19  val_0_med   1002 non-null   float64\n",
      " 20  val_1_med   1002 non-null   float64\n",
      " 21  val_2_med   1002 non-null   float64\n",
      " 22  val_3_med   1002 non-null   float64\n",
      " 23  val_4_med   1002 non-null   float64\n",
      " 24  val_5_med   1002 non-null   float64\n",
      " 25  val_0_sum   1002 non-null   float64\n",
      " 26  val_1_sum   1002 non-null   float64\n",
      " 27  val_2_sum   1002 non-null   float64\n",
      " 28  val_3_sum   1002 non-null   float64\n",
      " 29  val_4_sum   1002 non-null   float64\n",
      " 30  val_5_sum   1002 non-null   float64\n",
      " 31  val_0_std   1002 non-null   float64\n",
      " 32  val_1_std   1002 non-null   float64\n",
      " 33  val_2_std   1002 non-null   float64\n",
      " 34  val_3_std   1002 non-null   float64\n",
      " 35  val_4_std   1002 non-null   float64\n",
      " 36  val_5_std   1002 non-null   float64\n",
      " 37  val_0_var   1002 non-null   float64\n",
      " 38  val_1_var   1002 non-null   float64\n",
      " 39  val_2_var   1002 non-null   float64\n",
      " 40  val_3_var   1002 non-null   float64\n",
      " 41  val_4_var   1002 non-null   float64\n",
      " 42  val_5_var   1002 non-null   float64\n",
      " 43  class       1002 non-null   float64\n",
      "dtypes: float64(31), int64(13)\n",
      "memory usage: 344.6 KB\n"
     ]
    }
   ],
   "source": [
    "df_prep.info()"
   ]
  },
  {
   "cell_type": "code",
   "execution_count": 10,
   "id": "683a4530",
   "metadata": {},
   "outputs": [
    {
     "data": {
      "text/html": [
       "<div>\n",
       "<style scoped>\n",
       "    .dataframe tbody tr th:only-of-type {\n",
       "        vertical-align: middle;\n",
       "    }\n",
       "\n",
       "    .dataframe tbody tr th {\n",
       "        vertical-align: top;\n",
       "    }\n",
       "\n",
       "    .dataframe thead th {\n",
       "        text-align: right;\n",
       "    }\n",
       "</style>\n",
       "<table border=\"1\" class=\"dataframe\">\n",
       "  <thead>\n",
       "    <tr style=\"text-align: right;\">\n",
       "      <th></th>\n",
       "      <th>count</th>\n",
       "      <th>mean</th>\n",
       "      <th>std</th>\n",
       "      <th>min</th>\n",
       "      <th>25%</th>\n",
       "      <th>50%</th>\n",
       "      <th>75%</th>\n",
       "      <th>max</th>\n",
       "    </tr>\n",
       "  </thead>\n",
       "  <tbody>\n",
       "    <tr>\n",
       "      <th>second</th>\n",
       "      <td>1002.0</td>\n",
       "      <td>500.500000</td>\n",
       "      <td>289.396786</td>\n",
       "      <td>0.000000</td>\n",
       "      <td>250.250000</td>\n",
       "      <td>500.500000</td>\n",
       "      <td>750.750000</td>\n",
       "      <td>1001.000000</td>\n",
       "    </tr>\n",
       "    <tr>\n",
       "      <th>val_0_min</th>\n",
       "      <td>1002.0</td>\n",
       "      <td>23.893214</td>\n",
       "      <td>31.051431</td>\n",
       "      <td>4.000000</td>\n",
       "      <td>7.000000</td>\n",
       "      <td>9.000000</td>\n",
       "      <td>13.000000</td>\n",
       "      <td>91.000000</td>\n",
       "    </tr>\n",
       "    <tr>\n",
       "      <th>val_1_min</th>\n",
       "      <td>1002.0</td>\n",
       "      <td>25.308383</td>\n",
       "      <td>31.098498</td>\n",
       "      <td>5.000000</td>\n",
       "      <td>8.000000</td>\n",
       "      <td>10.000000</td>\n",
       "      <td>18.000000</td>\n",
       "      <td>96.000000</td>\n",
       "    </tr>\n",
       "    <tr>\n",
       "      <th>val_2_min</th>\n",
       "      <td>1002.0</td>\n",
       "      <td>27.657685</td>\n",
       "      <td>34.722154</td>\n",
       "      <td>4.000000</td>\n",
       "      <td>7.000000</td>\n",
       "      <td>10.000000</td>\n",
       "      <td>21.000000</td>\n",
       "      <td>101.000000</td>\n",
       "    </tr>\n",
       "    <tr>\n",
       "      <th>val_3_min</th>\n",
       "      <td>1002.0</td>\n",
       "      <td>42.637725</td>\n",
       "      <td>69.885031</td>\n",
       "      <td>4.000000</td>\n",
       "      <td>6.000000</td>\n",
       "      <td>8.000000</td>\n",
       "      <td>14.000000</td>\n",
       "      <td>195.000000</td>\n",
       "    </tr>\n",
       "    <tr>\n",
       "      <th>val_4_min</th>\n",
       "      <td>1002.0</td>\n",
       "      <td>44.834331</td>\n",
       "      <td>73.276715</td>\n",
       "      <td>4.000000</td>\n",
       "      <td>7.000000</td>\n",
       "      <td>10.000000</td>\n",
       "      <td>16.000000</td>\n",
       "      <td>209.000000</td>\n",
       "    </tr>\n",
       "    <tr>\n",
       "      <th>val_5_min</th>\n",
       "      <td>1002.0</td>\n",
       "      <td>42.239521</td>\n",
       "      <td>67.263676</td>\n",
       "      <td>4.000000</td>\n",
       "      <td>7.000000</td>\n",
       "      <td>9.000000</td>\n",
       "      <td>16.000000</td>\n",
       "      <td>188.000000</td>\n",
       "    </tr>\n",
       "    <tr>\n",
       "      <th>val_0_max</th>\n",
       "      <td>1002.0</td>\n",
       "      <td>93.000998</td>\n",
       "      <td>29.219330</td>\n",
       "      <td>19.000000</td>\n",
       "      <td>84.250000</td>\n",
       "      <td>92.000000</td>\n",
       "      <td>105.000000</td>\n",
       "      <td>424.000000</td>\n",
       "    </tr>\n",
       "    <tr>\n",
       "      <th>val_1_max</th>\n",
       "      <td>1002.0</td>\n",
       "      <td>94.774451</td>\n",
       "      <td>23.776999</td>\n",
       "      <td>21.000000</td>\n",
       "      <td>82.000000</td>\n",
       "      <td>94.000000</td>\n",
       "      <td>107.000000</td>\n",
       "      <td>214.000000</td>\n",
       "    </tr>\n",
       "    <tr>\n",
       "      <th>val_2_max</th>\n",
       "      <td>1002.0</td>\n",
       "      <td>106.046906</td>\n",
       "      <td>26.967713</td>\n",
       "      <td>27.000000</td>\n",
       "      <td>98.000000</td>\n",
       "      <td>105.000000</td>\n",
       "      <td>122.000000</td>\n",
       "      <td>206.000000</td>\n",
       "    </tr>\n",
       "    <tr>\n",
       "      <th>val_3_max</th>\n",
       "      <td>1002.0</td>\n",
       "      <td>181.312375</td>\n",
       "      <td>48.578034</td>\n",
       "      <td>19.000000</td>\n",
       "      <td>182.000000</td>\n",
       "      <td>193.000000</td>\n",
       "      <td>207.000000</td>\n",
       "      <td>351.000000</td>\n",
       "    </tr>\n",
       "    <tr>\n",
       "      <th>val_4_max</th>\n",
       "      <td>1002.0</td>\n",
       "      <td>183.951098</td>\n",
       "      <td>48.189505</td>\n",
       "      <td>21.000000</td>\n",
       "      <td>176.000000</td>\n",
       "      <td>196.000000</td>\n",
       "      <td>212.000000</td>\n",
       "      <td>333.000000</td>\n",
       "    </tr>\n",
       "    <tr>\n",
       "      <th>val_5_max</th>\n",
       "      <td>1002.0</td>\n",
       "      <td>172.927146</td>\n",
       "      <td>42.561769</td>\n",
       "      <td>37.000000</td>\n",
       "      <td>168.000000</td>\n",
       "      <td>183.000000</td>\n",
       "      <td>196.750000</td>\n",
       "      <td>392.000000</td>\n",
       "    </tr>\n",
       "    <tr>\n",
       "      <th>val_0_mean</th>\n",
       "      <td>1002.0</td>\n",
       "      <td>54.036854</td>\n",
       "      <td>25.575572</td>\n",
       "      <td>9.468571</td>\n",
       "      <td>31.868850</td>\n",
       "      <td>53.661660</td>\n",
       "      <td>79.194582</td>\n",
       "      <td>91.195313</td>\n",
       "    </tr>\n",
       "    <tr>\n",
       "      <th>val_1_mean</th>\n",
       "      <td>1002.0</td>\n",
       "      <td>52.409056</td>\n",
       "      <td>26.458317</td>\n",
       "      <td>10.112717</td>\n",
       "      <td>28.331080</td>\n",
       "      <td>48.265957</td>\n",
       "      <td>76.212383</td>\n",
       "      <td>97.331395</td>\n",
       "    </tr>\n",
       "    <tr>\n",
       "      <th>val_2_mean</th>\n",
       "      <td>1002.0</td>\n",
       "      <td>63.649237</td>\n",
       "      <td>32.070892</td>\n",
       "      <td>7.977477</td>\n",
       "      <td>29.901495</td>\n",
       "      <td>72.122772</td>\n",
       "      <td>96.315897</td>\n",
       "      <td>107.046555</td>\n",
       "    </tr>\n",
       "    <tr>\n",
       "      <th>val_3_mean</th>\n",
       "      <td>1002.0</td>\n",
       "      <td>106.738638</td>\n",
       "      <td>66.883526</td>\n",
       "      <td>6.243243</td>\n",
       "      <td>38.311309</td>\n",
       "      <td>117.513123</td>\n",
       "      <td>176.739696</td>\n",
       "      <td>196.190207</td>\n",
       "    </tr>\n",
       "    <tr>\n",
       "      <th>val_4_mean</th>\n",
       "      <td>1002.0</td>\n",
       "      <td>95.427612</td>\n",
       "      <td>68.420695</td>\n",
       "      <td>7.389430</td>\n",
       "      <td>29.655893</td>\n",
       "      <td>78.509420</td>\n",
       "      <td>160.807528</td>\n",
       "      <td>211.510358</td>\n",
       "    </tr>\n",
       "    <tr>\n",
       "      <th>val_5_mean</th>\n",
       "      <td>1002.0</td>\n",
       "      <td>109.256402</td>\n",
       "      <td>58.041314</td>\n",
       "      <td>11.976684</td>\n",
       "      <td>56.477254</td>\n",
       "      <td>112.061215</td>\n",
       "      <td>168.274993</td>\n",
       "      <td>189.037665</td>\n",
       "    </tr>\n",
       "    <tr>\n",
       "      <th>val_0_med</th>\n",
       "      <td>1002.0</td>\n",
       "      <td>54.880739</td>\n",
       "      <td>30.119310</td>\n",
       "      <td>9.000000</td>\n",
       "      <td>23.000000</td>\n",
       "      <td>58.500000</td>\n",
       "      <td>87.000000</td>\n",
       "      <td>91.000000</td>\n",
       "    </tr>\n",
       "    <tr>\n",
       "      <th>val_1_med</th>\n",
       "      <td>1002.0</td>\n",
       "      <td>51.552395</td>\n",
       "      <td>29.727920</td>\n",
       "      <td>9.000000</td>\n",
       "      <td>23.000000</td>\n",
       "      <td>45.000000</td>\n",
       "      <td>82.000000</td>\n",
       "      <td>101.000000</td>\n",
       "    </tr>\n",
       "    <tr>\n",
       "      <th>val_2_med</th>\n",
       "      <td>1002.0</td>\n",
       "      <td>64.453593</td>\n",
       "      <td>36.988876</td>\n",
       "      <td>7.000000</td>\n",
       "      <td>21.000000</td>\n",
       "      <td>86.000000</td>\n",
       "      <td>100.000000</td>\n",
       "      <td>107.000000</td>\n",
       "    </tr>\n",
       "    <tr>\n",
       "      <th>val_3_med</th>\n",
       "      <td>1002.0</td>\n",
       "      <td>107.437126</td>\n",
       "      <td>80.495795</td>\n",
       "      <td>6.000000</td>\n",
       "      <td>16.000000</td>\n",
       "      <td>149.000000</td>\n",
       "      <td>184.000000</td>\n",
       "      <td>196.000000</td>\n",
       "    </tr>\n",
       "    <tr>\n",
       "      <th>val_4_med</th>\n",
       "      <td>1002.0</td>\n",
       "      <td>91.300399</td>\n",
       "      <td>78.614746</td>\n",
       "      <td>7.000000</td>\n",
       "      <td>20.000000</td>\n",
       "      <td>48.000000</td>\n",
       "      <td>194.000000</td>\n",
       "      <td>212.000000</td>\n",
       "    </tr>\n",
       "    <tr>\n",
       "      <th>val_5_med</th>\n",
       "      <td>1002.0</td>\n",
       "      <td>111.491517</td>\n",
       "      <td>69.366821</td>\n",
       "      <td>9.000000</td>\n",
       "      <td>35.000000</td>\n",
       "      <td>138.500000</td>\n",
       "      <td>179.000000</td>\n",
       "      <td>192.000000</td>\n",
       "    </tr>\n",
       "    <tr>\n",
       "      <th>val_0_sum</th>\n",
       "      <td>1002.0</td>\n",
       "      <td>29732.941118</td>\n",
       "      <td>13026.102062</td>\n",
       "      <td>1189.000000</td>\n",
       "      <td>18459.250000</td>\n",
       "      <td>30307.500000</td>\n",
       "      <td>42774.750000</td>\n",
       "      <td>59575.000000</td>\n",
       "    </tr>\n",
       "    <tr>\n",
       "      <th>val_1_sum</th>\n",
       "      <td>1002.0</td>\n",
       "      <td>28543.900200</td>\n",
       "      <td>13055.656335</td>\n",
       "      <td>1426.000000</td>\n",
       "      <td>16810.250000</td>\n",
       "      <td>27363.500000</td>\n",
       "      <td>41190.000000</td>\n",
       "      <td>53666.000000</td>\n",
       "    </tr>\n",
       "    <tr>\n",
       "      <th>val_2_sum</th>\n",
       "      <td>1002.0</td>\n",
       "      <td>34748.241517</td>\n",
       "      <td>16437.920870</td>\n",
       "      <td>988.000000</td>\n",
       "      <td>17295.500000</td>\n",
       "      <td>40222.500000</td>\n",
       "      <td>51035.250000</td>\n",
       "      <td>65224.000000</td>\n",
       "    </tr>\n",
       "    <tr>\n",
       "      <th>val_3_sum</th>\n",
       "      <td>1002.0</td>\n",
       "      <td>57745.787425</td>\n",
       "      <td>34773.001472</td>\n",
       "      <td>875.000000</td>\n",
       "      <td>22419.250000</td>\n",
       "      <td>63688.000000</td>\n",
       "      <td>92425.500000</td>\n",
       "      <td>129968.000000</td>\n",
       "    </tr>\n",
       "    <tr>\n",
       "      <th>val_4_sum</th>\n",
       "      <td>1002.0</td>\n",
       "      <td>51257.588822</td>\n",
       "      <td>34903.389996</td>\n",
       "      <td>1368.000000</td>\n",
       "      <td>17628.250000</td>\n",
       "      <td>43874.500000</td>\n",
       "      <td>85627.000000</td>\n",
       "      <td>140423.000000</td>\n",
       "    </tr>\n",
       "    <tr>\n",
       "      <th>val_5_sum</th>\n",
       "      <td>1002.0</td>\n",
       "      <td>59829.729541</td>\n",
       "      <td>30240.856582</td>\n",
       "      <td>1356.000000</td>\n",
       "      <td>33043.750000</td>\n",
       "      <td>63621.500000</td>\n",
       "      <td>89760.250000</td>\n",
       "      <td>125606.000000</td>\n",
       "    </tr>\n",
       "    <tr>\n",
       "      <th>val_0_std</th>\n",
       "      <td>1002.0</td>\n",
       "      <td>16.291899</td>\n",
       "      <td>10.971769</td>\n",
       "      <td>0.000000</td>\n",
       "      <td>6.356694</td>\n",
       "      <td>17.349890</td>\n",
       "      <td>26.462348</td>\n",
       "      <td>34.042211</td>\n",
       "    </tr>\n",
       "    <tr>\n",
       "      <th>val_1_std</th>\n",
       "      <td>1002.0</td>\n",
       "      <td>14.590984</td>\n",
       "      <td>9.049489</td>\n",
       "      <td>0.061256</td>\n",
       "      <td>7.695832</td>\n",
       "      <td>15.927201</td>\n",
       "      <td>22.034753</td>\n",
       "      <td>33.413832</td>\n",
       "    </tr>\n",
       "    <tr>\n",
       "      <th>val_2_std</th>\n",
       "      <td>1002.0</td>\n",
       "      <td>16.729639</td>\n",
       "      <td>11.728224</td>\n",
       "      <td>0.000000</td>\n",
       "      <td>6.591981</td>\n",
       "      <td>17.210275</td>\n",
       "      <td>26.643203</td>\n",
       "      <td>38.931694</td>\n",
       "    </tr>\n",
       "    <tr>\n",
       "      <th>val_3_std</th>\n",
       "      <td>1002.0</td>\n",
       "      <td>36.802031</td>\n",
       "      <td>27.091241</td>\n",
       "      <td>0.263916</td>\n",
       "      <td>5.325960</td>\n",
       "      <td>40.221308</td>\n",
       "      <td>61.520876</td>\n",
       "      <td>85.308952</td>\n",
       "    </tr>\n",
       "    <tr>\n",
       "      <th>val_4_std</th>\n",
       "      <td>1002.0</td>\n",
       "      <td>34.870050</td>\n",
       "      <td>25.985869</td>\n",
       "      <td>0.184703</td>\n",
       "      <td>7.937764</td>\n",
       "      <td>35.117686</td>\n",
       "      <td>60.160413</td>\n",
       "      <td>82.434539</td>\n",
       "    </tr>\n",
       "    <tr>\n",
       "      <th>val_5_std</th>\n",
       "      <td>1002.0</td>\n",
       "      <td>35.475767</td>\n",
       "      <td>24.583918</td>\n",
       "      <td>0.062378</td>\n",
       "      <td>9.467619</td>\n",
       "      <td>39.672006</td>\n",
       "      <td>58.408354</td>\n",
       "      <td>76.113034</td>\n",
       "    </tr>\n",
       "    <tr>\n",
       "      <th>val_0_var</th>\n",
       "      <td>1002.0</td>\n",
       "      <td>385.685538</td>\n",
       "      <td>345.919718</td>\n",
       "      <td>0.000000</td>\n",
       "      <td>40.410675</td>\n",
       "      <td>301.019176</td>\n",
       "      <td>700.255895</td>\n",
       "      <td>1158.872126</td>\n",
       "    </tr>\n",
       "    <tr>\n",
       "      <th>val_1_var</th>\n",
       "      <td>1002.0</td>\n",
       "      <td>294.708355</td>\n",
       "      <td>250.538576</td>\n",
       "      <td>0.003752</td>\n",
       "      <td>59.225912</td>\n",
       "      <td>253.676077</td>\n",
       "      <td>485.530330</td>\n",
       "      <td>1116.484166</td>\n",
       "    </tr>\n",
       "    <tr>\n",
       "      <th>val_2_var</th>\n",
       "      <td>1002.0</td>\n",
       "      <td>417.294792</td>\n",
       "      <td>413.415547</td>\n",
       "      <td>0.000000</td>\n",
       "      <td>43.455575</td>\n",
       "      <td>296.193904</td>\n",
       "      <td>709.860293</td>\n",
       "      <td>1515.676801</td>\n",
       "    </tr>\n",
       "    <tr>\n",
       "      <th>val_3_var</th>\n",
       "      <td>1002.0</td>\n",
       "      <td>2087.592408</td>\n",
       "      <td>1992.822908</td>\n",
       "      <td>0.069651</td>\n",
       "      <td>28.366859</td>\n",
       "      <td>1617.754607</td>\n",
       "      <td>3784.819392</td>\n",
       "      <td>7277.617265</td>\n",
       "    </tr>\n",
       "    <tr>\n",
       "      <th>val_4_var</th>\n",
       "      <td>1002.0</td>\n",
       "      <td>1890.511858</td>\n",
       "      <td>1869.813352</td>\n",
       "      <td>0.034115</td>\n",
       "      <td>63.010130</td>\n",
       "      <td>1233.251921</td>\n",
       "      <td>3619.275576</td>\n",
       "      <td>6795.453192</td>\n",
       "    </tr>\n",
       "    <tr>\n",
       "      <th>val_5_var</th>\n",
       "      <td>1002.0</td>\n",
       "      <td>1862.295932</td>\n",
       "      <td>1690.364912</td>\n",
       "      <td>0.003891</td>\n",
       "      <td>89.639762</td>\n",
       "      <td>1573.870382</td>\n",
       "      <td>3411.535816</td>\n",
       "      <td>5793.193965</td>\n",
       "    </tr>\n",
       "    <tr>\n",
       "      <th>class</th>\n",
       "      <td>1002.0</td>\n",
       "      <td>1.986587</td>\n",
       "      <td>1.335311</td>\n",
       "      <td>0.000000</td>\n",
       "      <td>0.990000</td>\n",
       "      <td>2.000000</td>\n",
       "      <td>3.010000</td>\n",
       "      <td>3.950000</td>\n",
       "    </tr>\n",
       "  </tbody>\n",
       "</table>\n",
       "</div>"
      ],
      "text/plain": [
       "             count          mean           std          min           25%  \\\n",
       "second      1002.0    500.500000    289.396786     0.000000    250.250000   \n",
       "val_0_min   1002.0     23.893214     31.051431     4.000000      7.000000   \n",
       "val_1_min   1002.0     25.308383     31.098498     5.000000      8.000000   \n",
       "val_2_min   1002.0     27.657685     34.722154     4.000000      7.000000   \n",
       "val_3_min   1002.0     42.637725     69.885031     4.000000      6.000000   \n",
       "val_4_min   1002.0     44.834331     73.276715     4.000000      7.000000   \n",
       "val_5_min   1002.0     42.239521     67.263676     4.000000      7.000000   \n",
       "val_0_max   1002.0     93.000998     29.219330    19.000000     84.250000   \n",
       "val_1_max   1002.0     94.774451     23.776999    21.000000     82.000000   \n",
       "val_2_max   1002.0    106.046906     26.967713    27.000000     98.000000   \n",
       "val_3_max   1002.0    181.312375     48.578034    19.000000    182.000000   \n",
       "val_4_max   1002.0    183.951098     48.189505    21.000000    176.000000   \n",
       "val_5_max   1002.0    172.927146     42.561769    37.000000    168.000000   \n",
       "val_0_mean  1002.0     54.036854     25.575572     9.468571     31.868850   \n",
       "val_1_mean  1002.0     52.409056     26.458317    10.112717     28.331080   \n",
       "val_2_mean  1002.0     63.649237     32.070892     7.977477     29.901495   \n",
       "val_3_mean  1002.0    106.738638     66.883526     6.243243     38.311309   \n",
       "val_4_mean  1002.0     95.427612     68.420695     7.389430     29.655893   \n",
       "val_5_mean  1002.0    109.256402     58.041314    11.976684     56.477254   \n",
       "val_0_med   1002.0     54.880739     30.119310     9.000000     23.000000   \n",
       "val_1_med   1002.0     51.552395     29.727920     9.000000     23.000000   \n",
       "val_2_med   1002.0     64.453593     36.988876     7.000000     21.000000   \n",
       "val_3_med   1002.0    107.437126     80.495795     6.000000     16.000000   \n",
       "val_4_med   1002.0     91.300399     78.614746     7.000000     20.000000   \n",
       "val_5_med   1002.0    111.491517     69.366821     9.000000     35.000000   \n",
       "val_0_sum   1002.0  29732.941118  13026.102062  1189.000000  18459.250000   \n",
       "val_1_sum   1002.0  28543.900200  13055.656335  1426.000000  16810.250000   \n",
       "val_2_sum   1002.0  34748.241517  16437.920870   988.000000  17295.500000   \n",
       "val_3_sum   1002.0  57745.787425  34773.001472   875.000000  22419.250000   \n",
       "val_4_sum   1002.0  51257.588822  34903.389996  1368.000000  17628.250000   \n",
       "val_5_sum   1002.0  59829.729541  30240.856582  1356.000000  33043.750000   \n",
       "val_0_std   1002.0     16.291899     10.971769     0.000000      6.356694   \n",
       "val_1_std   1002.0     14.590984      9.049489     0.061256      7.695832   \n",
       "val_2_std   1002.0     16.729639     11.728224     0.000000      6.591981   \n",
       "val_3_std   1002.0     36.802031     27.091241     0.263916      5.325960   \n",
       "val_4_std   1002.0     34.870050     25.985869     0.184703      7.937764   \n",
       "val_5_std   1002.0     35.475767     24.583918     0.062378      9.467619   \n",
       "val_0_var   1002.0    385.685538    345.919718     0.000000     40.410675   \n",
       "val_1_var   1002.0    294.708355    250.538576     0.003752     59.225912   \n",
       "val_2_var   1002.0    417.294792    413.415547     0.000000     43.455575   \n",
       "val_3_var   1002.0   2087.592408   1992.822908     0.069651     28.366859   \n",
       "val_4_var   1002.0   1890.511858   1869.813352     0.034115     63.010130   \n",
       "val_5_var   1002.0   1862.295932   1690.364912     0.003891     89.639762   \n",
       "class       1002.0      1.986587      1.335311     0.000000      0.990000   \n",
       "\n",
       "                     50%           75%            max  \n",
       "second        500.500000    750.750000    1001.000000  \n",
       "val_0_min       9.000000     13.000000      91.000000  \n",
       "val_1_min      10.000000     18.000000      96.000000  \n",
       "val_2_min      10.000000     21.000000     101.000000  \n",
       "val_3_min       8.000000     14.000000     195.000000  \n",
       "val_4_min      10.000000     16.000000     209.000000  \n",
       "val_5_min       9.000000     16.000000     188.000000  \n",
       "val_0_max      92.000000    105.000000     424.000000  \n",
       "val_1_max      94.000000    107.000000     214.000000  \n",
       "val_2_max     105.000000    122.000000     206.000000  \n",
       "val_3_max     193.000000    207.000000     351.000000  \n",
       "val_4_max     196.000000    212.000000     333.000000  \n",
       "val_5_max     183.000000    196.750000     392.000000  \n",
       "val_0_mean     53.661660     79.194582      91.195313  \n",
       "val_1_mean     48.265957     76.212383      97.331395  \n",
       "val_2_mean     72.122772     96.315897     107.046555  \n",
       "val_3_mean    117.513123    176.739696     196.190207  \n",
       "val_4_mean     78.509420    160.807528     211.510358  \n",
       "val_5_mean    112.061215    168.274993     189.037665  \n",
       "val_0_med      58.500000     87.000000      91.000000  \n",
       "val_1_med      45.000000     82.000000     101.000000  \n",
       "val_2_med      86.000000    100.000000     107.000000  \n",
       "val_3_med     149.000000    184.000000     196.000000  \n",
       "val_4_med      48.000000    194.000000     212.000000  \n",
       "val_5_med     138.500000    179.000000     192.000000  \n",
       "val_0_sum   30307.500000  42774.750000   59575.000000  \n",
       "val_1_sum   27363.500000  41190.000000   53666.000000  \n",
       "val_2_sum   40222.500000  51035.250000   65224.000000  \n",
       "val_3_sum   63688.000000  92425.500000  129968.000000  \n",
       "val_4_sum   43874.500000  85627.000000  140423.000000  \n",
       "val_5_sum   63621.500000  89760.250000  125606.000000  \n",
       "val_0_std      17.349890     26.462348      34.042211  \n",
       "val_1_std      15.927201     22.034753      33.413832  \n",
       "val_2_std      17.210275     26.643203      38.931694  \n",
       "val_3_std      40.221308     61.520876      85.308952  \n",
       "val_4_std      35.117686     60.160413      82.434539  \n",
       "val_5_std      39.672006     58.408354      76.113034  \n",
       "val_0_var     301.019176    700.255895    1158.872126  \n",
       "val_1_var     253.676077    485.530330    1116.484166  \n",
       "val_2_var     296.193904    709.860293    1515.676801  \n",
       "val_3_var    1617.754607   3784.819392    7277.617265  \n",
       "val_4_var    1233.251921   3619.275576    6795.453192  \n",
       "val_5_var    1573.870382   3411.535816    5793.193965  \n",
       "class           2.000000      3.010000       3.950000  "
      ]
     },
     "execution_count": 10,
     "metadata": {},
     "output_type": "execute_result"
    }
   ],
   "source": [
    "df_prep.describe().T"
   ]
  },
  {
   "cell_type": "code",
   "execution_count": 11,
   "id": "63d249d1",
   "metadata": {},
   "outputs": [
    {
     "data": {
      "text/plain": [
       "False"
      ]
     },
     "execution_count": 11,
     "metadata": {},
     "output_type": "execute_result"
    }
   ],
   "source": [
    "(df_prep.isnull().sum() > 0 ).any()"
   ]
  },
  {
   "cell_type": "code",
   "execution_count": 12,
   "id": "24a7b27a",
   "metadata": {},
   "outputs": [
    {
     "data": {
      "text/html": [
       "<div>\n",
       "<style scoped>\n",
       "    .dataframe tbody tr th:only-of-type {\n",
       "        vertical-align: middle;\n",
       "    }\n",
       "\n",
       "    .dataframe tbody tr th {\n",
       "        vertical-align: top;\n",
       "    }\n",
       "\n",
       "    .dataframe thead th {\n",
       "        text-align: right;\n",
       "    }\n",
       "</style>\n",
       "<table border=\"1\" class=\"dataframe\">\n",
       "  <thead>\n",
       "    <tr style=\"text-align: right;\">\n",
       "      <th></th>\n",
       "      <th>val_0_min</th>\n",
       "      <th>val_1_min</th>\n",
       "      <th>val_2_min</th>\n",
       "      <th>val_3_min</th>\n",
       "      <th>val_4_min</th>\n",
       "      <th>val_5_min</th>\n",
       "      <th>val_0_max</th>\n",
       "      <th>val_1_max</th>\n",
       "      <th>val_2_max</th>\n",
       "      <th>val_3_max</th>\n",
       "      <th>...</th>\n",
       "      <th>val_2_std</th>\n",
       "      <th>val_3_std</th>\n",
       "      <th>val_4_std</th>\n",
       "      <th>val_5_std</th>\n",
       "      <th>val_0_var</th>\n",
       "      <th>val_1_var</th>\n",
       "      <th>val_2_var</th>\n",
       "      <th>val_3_var</th>\n",
       "      <th>val_4_var</th>\n",
       "      <th>val_5_var</th>\n",
       "    </tr>\n",
       "  </thead>\n",
       "  <tbody>\n",
       "    <tr>\n",
       "      <th>0</th>\n",
       "      <td>41</td>\n",
       "      <td>49</td>\n",
       "      <td>95</td>\n",
       "      <td>120</td>\n",
       "      <td>47</td>\n",
       "      <td>46</td>\n",
       "      <td>41</td>\n",
       "      <td>50</td>\n",
       "      <td>96</td>\n",
       "      <td>121</td>\n",
       "      <td>...</td>\n",
       "      <td>0.350931</td>\n",
       "      <td>0.470824</td>\n",
       "      <td>0.384426</td>\n",
       "      <td>0.435494</td>\n",
       "      <td>0.000000</td>\n",
       "      <td>0.147783</td>\n",
       "      <td>0.123153</td>\n",
       "      <td>0.221675</td>\n",
       "      <td>0.147783</td>\n",
       "      <td>0.189655</td>\n",
       "    </tr>\n",
       "    <tr>\n",
       "      <th>1</th>\n",
       "      <td>18</td>\n",
       "      <td>19</td>\n",
       "      <td>18</td>\n",
       "      <td>10</td>\n",
       "      <td>14</td>\n",
       "      <td>17</td>\n",
       "      <td>46</td>\n",
       "      <td>76</td>\n",
       "      <td>103</td>\n",
       "      <td>124</td>\n",
       "      <td>...</td>\n",
       "      <td>26.416758</td>\n",
       "      <td>38.948626</td>\n",
       "      <td>7.553299</td>\n",
       "      <td>3.295951</td>\n",
       "      <td>5.233212</td>\n",
       "      <td>34.764129</td>\n",
       "      <td>697.845107</td>\n",
       "      <td>1516.995484</td>\n",
       "      <td>57.052327</td>\n",
       "      <td>10.863294</td>\n",
       "    </tr>\n",
       "    <tr>\n",
       "      <th>2</th>\n",
       "      <td>23</td>\n",
       "      <td>32</td>\n",
       "      <td>15</td>\n",
       "      <td>11</td>\n",
       "      <td>16</td>\n",
       "      <td>31</td>\n",
       "      <td>48</td>\n",
       "      <td>65</td>\n",
       "      <td>98</td>\n",
       "      <td>125</td>\n",
       "      <td>...</td>\n",
       "      <td>26.304800</td>\n",
       "      <td>40.252709</td>\n",
       "      <td>4.550546</td>\n",
       "      <td>1.860322</td>\n",
       "      <td>3.213855</td>\n",
       "      <td>18.106360</td>\n",
       "      <td>691.942503</td>\n",
       "      <td>1620.280581</td>\n",
       "      <td>20.707469</td>\n",
       "      <td>3.460800</td>\n",
       "    </tr>\n",
       "    <tr>\n",
       "      <th>3</th>\n",
       "      <td>26</td>\n",
       "      <td>25</td>\n",
       "      <td>19</td>\n",
       "      <td>15</td>\n",
       "      <td>16</td>\n",
       "      <td>32</td>\n",
       "      <td>48</td>\n",
       "      <td>70</td>\n",
       "      <td>102</td>\n",
       "      <td>127</td>\n",
       "      <td>...</td>\n",
       "      <td>25.509263</td>\n",
       "      <td>39.295043</td>\n",
       "      <td>5.509494</td>\n",
       "      <td>2.184437</td>\n",
       "      <td>2.449684</td>\n",
       "      <td>27.190514</td>\n",
       "      <td>650.722495</td>\n",
       "      <td>1544.100420</td>\n",
       "      <td>30.354529</td>\n",
       "      <td>4.771767</td>\n",
       "    </tr>\n",
       "    <tr>\n",
       "      <th>4</th>\n",
       "      <td>23</td>\n",
       "      <td>30</td>\n",
       "      <td>20</td>\n",
       "      <td>12</td>\n",
       "      <td>19</td>\n",
       "      <td>33</td>\n",
       "      <td>46</td>\n",
       "      <td>69</td>\n",
       "      <td>108</td>\n",
       "      <td>127</td>\n",
       "      <td>...</td>\n",
       "      <td>27.064296</td>\n",
       "      <td>40.876464</td>\n",
       "      <td>5.202366</td>\n",
       "      <td>1.715481</td>\n",
       "      <td>2.499633</td>\n",
       "      <td>23.186358</td>\n",
       "      <td>732.476140</td>\n",
       "      <td>1670.885299</td>\n",
       "      <td>27.064610</td>\n",
       "      <td>2.942875</td>\n",
       "    </tr>\n",
       "  </tbody>\n",
       "</table>\n",
       "<p>5 rows × 42 columns</p>\n",
       "</div>"
      ],
      "text/plain": [
       "   val_0_min  val_1_min  val_2_min  val_3_min  val_4_min  val_5_min  \\\n",
       "0         41         49         95        120         47         46   \n",
       "1         18         19         18         10         14         17   \n",
       "2         23         32         15         11         16         31   \n",
       "3         26         25         19         15         16         32   \n",
       "4         23         30         20         12         19         33   \n",
       "\n",
       "   val_0_max  val_1_max  val_2_max  val_3_max  ...  val_2_std  val_3_std  \\\n",
       "0         41         50         96        121  ...   0.350931   0.470824   \n",
       "1         46         76        103        124  ...  26.416758  38.948626   \n",
       "2         48         65         98        125  ...  26.304800  40.252709   \n",
       "3         48         70        102        127  ...  25.509263  39.295043   \n",
       "4         46         69        108        127  ...  27.064296  40.876464   \n",
       "\n",
       "   val_4_std  val_5_std  val_0_var  val_1_var   val_2_var    val_3_var  \\\n",
       "0   0.384426   0.435494   0.000000   0.147783    0.123153     0.221675   \n",
       "1   7.553299   3.295951   5.233212  34.764129  697.845107  1516.995484   \n",
       "2   4.550546   1.860322   3.213855  18.106360  691.942503  1620.280581   \n",
       "3   5.509494   2.184437   2.449684  27.190514  650.722495  1544.100420   \n",
       "4   5.202366   1.715481   2.499633  23.186358  732.476140  1670.885299   \n",
       "\n",
       "   val_4_var  val_5_var  \n",
       "0   0.147783   0.189655  \n",
       "1  57.052327  10.863294  \n",
       "2  20.707469   3.460800  \n",
       "3  30.354529   4.771767  \n",
       "4  27.064610   2.942875  \n",
       "\n",
       "[5 rows x 42 columns]"
      ]
     },
     "execution_count": 12,
     "metadata": {},
     "output_type": "execute_result"
    }
   ],
   "source": [
    "df_prep_drop = df_prep.drop(['second', 'class'], axis=1)\n",
    "df_prep_drop.head()"
   ]
  },
  {
   "cell_type": "code",
   "execution_count": 13,
   "id": "1dcba1f6",
   "metadata": {},
   "outputs": [
    {
     "data": {
      "text/plain": [
       "<AxesSubplot: >"
      ]
     },
     "execution_count": 13,
     "metadata": {},
     "output_type": "execute_result"
    },
    {
     "data": {
      "image/png": "[encoded data removed]",
      "text/plain": [
       "<Figure size 1200x700 with 1 Axes>"
      ]
     },
     "metadata": {},
     "output_type": "display_data"
    }
   ],
   "source": [
    "classes = pd.value_counts(df_prep[\"class\"], sort=True).sort_index()\n",
    "classes.plot(kind=\"bar\", figsize=(12,7))"
   ]
  },
  {
   "cell_type": "code",
   "execution_count": 14,
   "id": "1b5eaf2b",
   "metadata": {},
   "outputs": [
    {
     "data": {
      "text/plain": [
       "<AxesSubplot: >"
      ]
     },
     "execution_count": 14,
     "metadata": {},
     "output_type": "execute_result"
    },
    {
     "data": {
      "image/png": "[encoded data removed]",
      "text/plain": [
       "<Figure size 2000x2000 with 2 Axes>"
      ]
     },
     "metadata": {},
     "output_type": "display_data"
    }
   ],
   "source": [
    "plt.figure(figsize=(20,20))\n",
    "sns.heatmap(df_prep_drop.corr(), cmap='coolwarm')"
   ]
  },
  {
   "cell_type": "markdown",
   "id": "3839af6d",
   "metadata": {},
   "source": [
    "## Scaling data"
   ]
  },
  {
   "cell_type": "code",
   "execution_count": 15,
   "id": "30e0a638",
   "metadata": {},
   "outputs": [],
   "source": [
    "from sklearn.preprocessing import RobustScaler"
   ]
  },
  {
   "cell_type": "code",
   "execution_count": 16,
   "id": "c1a43665",
   "metadata": {},
   "outputs": [],
   "source": [
    "scaler = RobustScaler()"
   ]
  },
  {
   "cell_type": "code",
   "execution_count": 17,
   "id": "e4106e3e",
   "metadata": {},
   "outputs": [
    {
     "data": {
      "text/html": [
       "<style>#sk-container-id-1 {color: black;background-color: white;}#sk-container-id-1 pre{padding: 0;}#sk-container-id-1 div.sk-toggleable {background-color: white;}#sk-container-id-1 label.sk-toggleable__label {cursor: pointer;display: block;width: 100%;margin-bottom: 0;padding: 0.3em;box-sizing: border-box;text-align: center;}#sk-container-id-1 label.sk-toggleable__label-arrow:before {content: \"▸\";float: left;margin-right: 0.25em;color: #696969;}#sk-container-id-1 label.sk-toggleable__label-arrow:hover:before {color: black;}#sk-container-id-1 div.sk-estimator:hover label.sk-toggleable__label-arrow:before {color: black;}#sk-container-id-1 div.sk-toggleable__content {max-height: 0;max-width: 0;overflow: hidden;text-align: left;background-color: #f0f8ff;}#sk-container-id-1 div.sk-toggleable__content pre {margin: 0.2em;color: black;border-radius: 0.25em;background-color: #f0f8ff;}#sk-container-id-1 input.sk-toggleable__control:checked~div.sk-toggleable__content {max-height: 200px;max-width: 100%;overflow: auto;}#sk-container-id-1 input.sk-toggleable__control:checked~label.sk-toggleable__label-arrow:before {content: \"▾\";}#sk-container-id-1 div.sk-estimator input.sk-toggleable__control:checked~label.sk-toggleable__label {background-color: #d4ebff;}#sk-container-id-1 div.sk-label input.sk-toggleable__control:checked~label.sk-toggleable__label {background-color: #d4ebff;}#sk-container-id-1 input.sk-hidden--visually {border: 0;clip: rect(1px 1px 1px 1px);clip: rect(1px, 1px, 1px, 1px);height: 1px;margin: -1px;overflow: hidden;padding: 0;position: absolute;width: 1px;}#sk-container-id-1 div.sk-estimator {font-family: monospace;background-color: #f0f8ff;border: 1px dotted black;border-radius: 0.25em;box-sizing: border-box;margin-bottom: 0.5em;}#sk-container-id-1 div.sk-estimator:hover {background-color: #d4ebff;}#sk-container-id-1 div.sk-parallel-item::after {content: \"\";width: 100%;border-bottom: 1px solid gray;flex-grow: 1;}#sk-container-id-1 div.sk-label:hover label.sk-toggleable__label {background-color: #d4ebff;}#sk-container-id-1 div.sk-serial::before {content: \"\";position: absolute;border-left: 1px solid gray;box-sizing: border-box;top: 0;bottom: 0;left: 50%;z-index: 0;}#sk-container-id-1 div.sk-serial {display: flex;flex-direction: column;align-items: center;background-color: white;padding-right: 0.2em;padding-left: 0.2em;position: relative;}#sk-container-id-1 div.sk-item {position: relative;z-index: 1;}#sk-container-id-1 div.sk-parallel {display: flex;align-items: stretch;justify-content: center;background-color: white;position: relative;}#sk-container-id-1 div.sk-item::before, #sk-container-id-1 div.sk-parallel-item::before {content: \"\";position: absolute;border-left: 1px solid gray;box-sizing: border-box;top: 0;bottom: 0;left: 50%;z-index: -1;}#sk-container-id-1 div.sk-parallel-item {display: flex;flex-direction: column;z-index: 1;position: relative;background-color: white;}#sk-container-id-1 div.sk-parallel-item:first-child::after {align-self: flex-end;width: 50%;}#sk-container-id-1 div.sk-parallel-item:last-child::after {align-self: flex-start;width: 50%;}#sk-container-id-1 div.sk-parallel-item:only-child::after {width: 0;}#sk-container-id-1 div.sk-dashed-wrapped {border: 1px dashed gray;margin: 0 0.4em 0.5em 0.4em;box-sizing: border-box;padding-bottom: 0.4em;background-color: white;}#sk-container-id-1 div.sk-label label {font-family: monospace;font-weight: bold;display: inline-block;line-height: 1.2em;}#sk-container-id-1 div.sk-label-container {text-align: center;}#sk-container-id-1 div.sk-container {/* jupyter's `normalize.less` sets `[hidden] { display: none; }` but bootstrap.min.css set `[hidden] { display: none !important; }` so we also need the `!important` here to be able to override the default hidden behavior on the sphinx rendered scikit-learn.org. See: https://github.com/scikit-learn/scikit-learn/issues/21755 */display: inline-block !important;position: relative;}#sk-container-id-1 div.sk-text-repr-fallback {display: none;}</style><div id=\"sk-container-id-1\" class=\"sk-top-container\"><div class=\"sk-text-repr-fallback\"><pre>RobustScaler()</pre><b>In a Jupyter environment, please rerun this cell to show the HTML representation or trust the notebook. <br />On GitHub, the HTML representation is unable to render, please try loading this page with nbviewer.org.</b></div><div class=\"sk-container\" hidden><div class=\"sk-item\"><div class=\"sk-estimator sk-toggleable\"><input class=\"sk-toggleable__control sk-hidden--visually\" id=\"sk-estimator-id-1\" type=\"checkbox\" checked><label for=\"sk-estimator-id-1\" class=\"sk-toggleable__label sk-toggleable__label-arrow\">RobustScaler</label><div class=\"sk-toggleable__content\"><pre>RobustScaler()</pre></div></div></div></div></div>"
      ],
      "text/plain": [
       "RobustScaler()"
      ]
     },
     "execution_count": 17,
     "metadata": {},
     "output_type": "execute_result"
    }
   ],
   "source": [
    "scaler.fit(df_prep_drop)"
   ]
  },
  {
   "cell_type": "code",
   "execution_count": 18,
   "id": "e5c8ec12",
   "metadata": {},
   "outputs": [],
   "source": [
    "scaled_features = scaler.fit_transform(df_prep_drop)"
   ]
  },
  {
   "cell_type": "code",
   "execution_count": 19,
   "id": "79cdb29c",
   "metadata": {},
   "outputs": [
    {
     "data": {
      "text/html": [
       "<div>\n",
       "<style scoped>\n",
       "    .dataframe tbody tr th:only-of-type {\n",
       "        vertical-align: middle;\n",
       "    }\n",
       "\n",
       "    .dataframe tbody tr th {\n",
       "        vertical-align: top;\n",
       "    }\n",
       "\n",
       "    .dataframe thead th {\n",
       "        text-align: right;\n",
       "    }\n",
       "</style>\n",
       "<table border=\"1\" class=\"dataframe\">\n",
       "  <thead>\n",
       "    <tr style=\"text-align: right;\">\n",
       "      <th></th>\n",
       "      <th>val_0_min</th>\n",
       "      <th>val_1_min</th>\n",
       "      <th>val_2_min</th>\n",
       "      <th>val_3_min</th>\n",
       "      <th>val_4_min</th>\n",
       "      <th>val_5_min</th>\n",
       "      <th>val_0_max</th>\n",
       "      <th>val_1_max</th>\n",
       "      <th>val_2_max</th>\n",
       "      <th>val_3_max</th>\n",
       "      <th>...</th>\n",
       "      <th>val_2_std</th>\n",
       "      <th>val_3_std</th>\n",
       "      <th>val_4_std</th>\n",
       "      <th>val_5_std</th>\n",
       "      <th>val_0_var</th>\n",
       "      <th>val_1_var</th>\n",
       "      <th>val_2_var</th>\n",
       "      <th>val_3_var</th>\n",
       "      <th>val_4_var</th>\n",
       "      <th>val_5_var</th>\n",
       "    </tr>\n",
       "  </thead>\n",
       "  <tbody>\n",
       "    <tr>\n",
       "      <th>0</th>\n",
       "      <td>5.333333</td>\n",
       "      <td>3.9</td>\n",
       "      <td>6.071429</td>\n",
       "      <td>14.000</td>\n",
       "      <td>4.111111</td>\n",
       "      <td>4.111111</td>\n",
       "      <td>-2.457831</td>\n",
       "      <td>-1.76</td>\n",
       "      <td>-0.375000</td>\n",
       "      <td>-2.88</td>\n",
       "      <td>...</td>\n",
       "      <td>-0.840814</td>\n",
       "      <td>-0.707368</td>\n",
       "      <td>-0.665100</td>\n",
       "      <td>-0.801715</td>\n",
       "      <td>-0.456197</td>\n",
       "      <td>-0.594712</td>\n",
       "      <td>-0.444281</td>\n",
       "      <td>-0.430601</td>\n",
       "      <td>-0.346741</td>\n",
       "      <td>-0.473730</td>\n",
       "    </tr>\n",
       "    <tr>\n",
       "      <th>1</th>\n",
       "      <td>1.500000</td>\n",
       "      <td>0.9</td>\n",
       "      <td>0.571429</td>\n",
       "      <td>0.250</td>\n",
       "      <td>0.444444</td>\n",
       "      <td>0.888889</td>\n",
       "      <td>-2.216867</td>\n",
       "      <td>-0.72</td>\n",
       "      <td>-0.083333</td>\n",
       "      <td>-2.76</td>\n",
       "      <td>...</td>\n",
       "      <td>0.459148</td>\n",
       "      <td>-0.022648</td>\n",
       "      <td>-0.527824</td>\n",
       "      <td>-0.743267</td>\n",
       "      <td>-0.448266</td>\n",
       "      <td>-0.513511</td>\n",
       "      <td>0.602714</td>\n",
       "      <td>-0.026823</td>\n",
       "      <td>-0.330740</td>\n",
       "      <td>-0.470517</td>\n",
       "    </tr>\n",
       "    <tr>\n",
       "      <th>2</th>\n",
       "      <td>2.333333</td>\n",
       "      <td>2.2</td>\n",
       "      <td>0.357143</td>\n",
       "      <td>0.375</td>\n",
       "      <td>0.666667</td>\n",
       "      <td>2.444444</td>\n",
       "      <td>-2.120482</td>\n",
       "      <td>-1.16</td>\n",
       "      <td>-0.291667</td>\n",
       "      <td>-2.72</td>\n",
       "      <td>...</td>\n",
       "      <td>0.453565</td>\n",
       "      <td>0.000559</td>\n",
       "      <td>-0.585323</td>\n",
       "      <td>-0.772601</td>\n",
       "      <td>-0.451326</td>\n",
       "      <td>-0.552586</td>\n",
       "      <td>0.593856</td>\n",
       "      <td>0.000672</td>\n",
       "      <td>-0.340960</td>\n",
       "      <td>-0.472745</td>\n",
       "    </tr>\n",
       "    <tr>\n",
       "      <th>3</th>\n",
       "      <td>2.833333</td>\n",
       "      <td>1.5</td>\n",
       "      <td>0.642857</td>\n",
       "      <td>0.875</td>\n",
       "      <td>0.666667</td>\n",
       "      <td>2.555556</td>\n",
       "      <td>-2.120482</td>\n",
       "      <td>-0.96</td>\n",
       "      <td>-0.125000</td>\n",
       "      <td>-2.64</td>\n",
       "      <td>...</td>\n",
       "      <td>0.413889</td>\n",
       "      <td>-0.016483</td>\n",
       "      <td>-0.566961</td>\n",
       "      <td>-0.765979</td>\n",
       "      <td>-0.452484</td>\n",
       "      <td>-0.531277</td>\n",
       "      <td>0.532002</td>\n",
       "      <td>-0.019607</td>\n",
       "      <td>-0.338247</td>\n",
       "      <td>-0.472350</td>\n",
       "    </tr>\n",
       "    <tr>\n",
       "      <th>4</th>\n",
       "      <td>2.333333</td>\n",
       "      <td>2.0</td>\n",
       "      <td>0.714286</td>\n",
       "      <td>0.500</td>\n",
       "      <td>1.000000</td>\n",
       "      <td>2.666667</td>\n",
       "      <td>-2.216867</td>\n",
       "      <td>-1.00</td>\n",
       "      <td>0.125000</td>\n",
       "      <td>-2.64</td>\n",
       "      <td>...</td>\n",
       "      <td>0.491442</td>\n",
       "      <td>0.011659</td>\n",
       "      <td>-0.572842</td>\n",
       "      <td>-0.775561</td>\n",
       "      <td>-0.452408</td>\n",
       "      <td>-0.540669</td>\n",
       "      <td>0.654681</td>\n",
       "      <td>0.014144</td>\n",
       "      <td>-0.339172</td>\n",
       "      <td>-0.472901</td>\n",
       "    </tr>\n",
       "  </tbody>\n",
       "</table>\n",
       "<p>5 rows × 42 columns</p>\n",
       "</div>"
      ],
      "text/plain": [
       "   val_0_min  val_1_min  val_2_min  val_3_min  val_4_min  val_5_min  \\\n",
       "0   5.333333        3.9   6.071429     14.000   4.111111   4.111111   \n",
       "1   1.500000        0.9   0.571429      0.250   0.444444   0.888889   \n",
       "2   2.333333        2.2   0.357143      0.375   0.666667   2.444444   \n",
       "3   2.833333        1.5   0.642857      0.875   0.666667   2.555556   \n",
       "4   2.333333        2.0   0.714286      0.500   1.000000   2.666667   \n",
       "\n",
       "   val_0_max  val_1_max  val_2_max  val_3_max  ...  val_2_std  val_3_std  \\\n",
       "0  -2.457831      -1.76  -0.375000      -2.88  ...  -0.840814  -0.707368   \n",
       "1  -2.216867      -0.72  -0.083333      -2.76  ...   0.459148  -0.022648   \n",
       "2  -2.120482      -1.16  -0.291667      -2.72  ...   0.453565   0.000559   \n",
       "3  -2.120482      -0.96  -0.125000      -2.64  ...   0.413889  -0.016483   \n",
       "4  -2.216867      -1.00   0.125000      -2.64  ...   0.491442   0.011659   \n",
       "\n",
       "   val_4_std  val_5_std  val_0_var  val_1_var  val_2_var  val_3_var  \\\n",
       "0  -0.665100  -0.801715  -0.456197  -0.594712  -0.444281  -0.430601   \n",
       "1  -0.527824  -0.743267  -0.448266  -0.513511   0.602714  -0.026823   \n",
       "2  -0.585323  -0.772601  -0.451326  -0.552586   0.593856   0.000672   \n",
       "3  -0.566961  -0.765979  -0.452484  -0.531277   0.532002  -0.019607   \n",
       "4  -0.572842  -0.775561  -0.452408  -0.540669   0.654681   0.014144   \n",
       "\n",
       "   val_4_var  val_5_var  \n",
       "0  -0.346741  -0.473730  \n",
       "1  -0.330740  -0.470517  \n",
       "2  -0.340960  -0.472745  \n",
       "3  -0.338247  -0.472350  \n",
       "4  -0.339172  -0.472901  \n",
       "\n",
       "[5 rows x 42 columns]"
      ]
     },
     "execution_count": 19,
     "metadata": {},
     "output_type": "execute_result"
    }
   ],
   "source": [
    "X = pd.DataFrame(scaled_features, columns=df_prep_drop.columns)\n",
    "X.head()"
   ]
  },
  {
   "cell_type": "markdown",
   "id": "97310fd4",
   "metadata": {},
   "source": [
    "## Train test split and feature selection"
   ]
  },
  {
   "cell_type": "code",
   "execution_count": 20,
   "id": "0ce1ba2b",
   "metadata": {},
   "outputs": [],
   "source": [
    "from sklearn.model_selection import train_test_split\n",
    "from sklearn.feature_selection import SelectFromModel\n",
    "from sklearn.ensemble import AdaBoostRegressor"
   ]
  },
  {
   "cell_type": "code",
   "execution_count": 21,
   "id": "7b206913",
   "metadata": {},
   "outputs": [],
   "source": [
    "data = df_prep_drop\n",
    "X = X\n",
    "y = df_prep[\"class\"]"
   ]
  },
  {
   "cell_type": "code",
   "execution_count": 22,
   "id": "5970a3b6",
   "metadata": {},
   "outputs": [],
   "source": [
    "abr = AdaBoostRegressor(random_state=100, n_estimators=50).fit(X, y)"
   ]
  },
  {
   "cell_type": "code",
   "execution_count": 23,
   "id": "56293ebb",
   "metadata": {},
   "outputs": [
    {
     "data": {
      "image/png": "[encoded data removed]",
      "text/plain": [
       "<Figure size 2000x2000 with 1 Axes>"
      ]
     },
     "metadata": {},
     "output_type": "display_data"
    }
   ],
   "source": [
    "importance = np.abs(abr.feature_importances_)\n",
    "feature_names = data.columns\n",
    "plt.figure(figsize=(20, 20))\n",
    "plt.bar(height=importance, x=feature_names)\n",
    "plt.title(\"Feature importances via coefficients\")\n",
    "plt.show()"
   ]
  },
  {
   "cell_type": "code",
   "execution_count": 24,
   "id": "6624e8ee",
   "metadata": {},
   "outputs": [],
   "source": [
    "threshold = 0.02"
   ]
  },
  {
   "cell_type": "code",
   "execution_count": 25,
   "id": "6e0c8521",
   "metadata": {},
   "outputs": [
    {
     "data": {
      "text/plain": [
       "16"
      ]
     },
     "execution_count": 25,
     "metadata": {},
     "output_type": "execute_result"
    }
   ],
   "source": [
    "len(importance[importance >= threshold])"
   ]
  },
  {
   "cell_type": "code",
   "execution_count": 26,
   "id": "a085dcb8",
   "metadata": {},
   "outputs": [],
   "source": [
    "selector = SelectFromModel(estimator=abr, threshold=threshold, prefit=True)"
   ]
  },
  {
   "cell_type": "code",
   "execution_count": 27,
   "id": "c4817209",
   "metadata": {},
   "outputs": [
    {
     "name": "stderr",
     "output_type": "stream",
     "text": [
      "/home/szymon/Studia_AGH/Semestr_5/ML/Machine_learning_course_UNINA/venv/lib/python3.10/site-packages/sklearn/base.py:413: UserWarning: X has feature names, but SelectFromModel was fitted without feature names\n",
      "  warnings.warn(\n"
     ]
    },
    {
     "data": {
      "text/html": [
       "<div>\n",
       "<style scoped>\n",
       "    .dataframe tbody tr th:only-of-type {\n",
       "        vertical-align: middle;\n",
       "    }\n",
       "\n",
       "    .dataframe tbody tr th {\n",
       "        vertical-align: top;\n",
       "    }\n",
       "\n",
       "    .dataframe thead th {\n",
       "        text-align: right;\n",
       "    }\n",
       "</style>\n",
       "<table border=\"1\" class=\"dataframe\">\n",
       "  <thead>\n",
       "    <tr style=\"text-align: right;\">\n",
       "      <th></th>\n",
       "      <th>val_0_min</th>\n",
       "      <th>val_1_min</th>\n",
       "      <th>val_2_min</th>\n",
       "      <th>val_3_min</th>\n",
       "      <th>val_4_min</th>\n",
       "      <th>val_0_max</th>\n",
       "      <th>val_2_max</th>\n",
       "      <th>val_3_max</th>\n",
       "      <th>val_4_max</th>\n",
       "      <th>val_5_max</th>\n",
       "      <th>val_5_mean</th>\n",
       "      <th>val_0_med</th>\n",
       "      <th>val_2_med</th>\n",
       "      <th>val_3_med</th>\n",
       "      <th>val_4_std</th>\n",
       "      <th>val_4_var</th>\n",
       "    </tr>\n",
       "  </thead>\n",
       "  <tbody>\n",
       "    <tr>\n",
       "      <th>0</th>\n",
       "      <td>5.333333</td>\n",
       "      <td>3.9</td>\n",
       "      <td>6.071429</td>\n",
       "      <td>14.000</td>\n",
       "      <td>4.111111</td>\n",
       "      <td>-2.457831</td>\n",
       "      <td>-0.375000</td>\n",
       "      <td>-2.88</td>\n",
       "      <td>-4.111111</td>\n",
       "      <td>-4.730435</td>\n",
       "      <td>-0.584114</td>\n",
       "      <td>-0.273438</td>\n",
       "      <td>0.113924</td>\n",
       "      <td>-0.166667</td>\n",
       "      <td>-0.665100</td>\n",
       "      <td>-0.346741</td>\n",
       "    </tr>\n",
       "    <tr>\n",
       "      <th>1</th>\n",
       "      <td>1.500000</td>\n",
       "      <td>0.9</td>\n",
       "      <td>0.571429</td>\n",
       "      <td>0.250</td>\n",
       "      <td>0.444444</td>\n",
       "      <td>-2.216867</td>\n",
       "      <td>-0.083333</td>\n",
       "      <td>-2.76</td>\n",
       "      <td>-3.888889</td>\n",
       "      <td>-4.626087</td>\n",
       "      <td>-0.590734</td>\n",
       "      <td>-0.273438</td>\n",
       "      <td>0.063291</td>\n",
       "      <td>-0.190476</td>\n",
       "      <td>-0.527824</td>\n",
       "      <td>-0.330740</td>\n",
       "    </tr>\n",
       "    <tr>\n",
       "      <th>2</th>\n",
       "      <td>2.333333</td>\n",
       "      <td>2.2</td>\n",
       "      <td>0.357143</td>\n",
       "      <td>0.375</td>\n",
       "      <td>0.666667</td>\n",
       "      <td>-2.120482</td>\n",
       "      <td>-0.291667</td>\n",
       "      <td>-2.72</td>\n",
       "      <td>-3.472222</td>\n",
       "      <td>-4.660870</td>\n",
       "      <td>-0.585835</td>\n",
       "      <td>-0.273438</td>\n",
       "      <td>0.050633</td>\n",
       "      <td>-0.220238</td>\n",
       "      <td>-0.585323</td>\n",
       "      <td>-0.340960</td>\n",
       "    </tr>\n",
       "    <tr>\n",
       "      <th>3</th>\n",
       "      <td>2.833333</td>\n",
       "      <td>1.5</td>\n",
       "      <td>0.642857</td>\n",
       "      <td>0.875</td>\n",
       "      <td>0.666667</td>\n",
       "      <td>-2.120482</td>\n",
       "      <td>-0.125000</td>\n",
       "      <td>-2.64</td>\n",
       "      <td>-3.638889</td>\n",
       "      <td>-4.660870</td>\n",
       "      <td>-0.588288</td>\n",
       "      <td>-0.273438</td>\n",
       "      <td>0.037975</td>\n",
       "      <td>-0.220238</td>\n",
       "      <td>-0.566961</td>\n",
       "      <td>-0.338247</td>\n",
       "    </tr>\n",
       "    <tr>\n",
       "      <th>4</th>\n",
       "      <td>2.333333</td>\n",
       "      <td>2.0</td>\n",
       "      <td>0.714286</td>\n",
       "      <td>0.500</td>\n",
       "      <td>1.000000</td>\n",
       "      <td>-2.216867</td>\n",
       "      <td>0.125000</td>\n",
       "      <td>-2.64</td>\n",
       "      <td>-3.777778</td>\n",
       "      <td>-4.626087</td>\n",
       "      <td>-0.586711</td>\n",
       "      <td>-0.273438</td>\n",
       "      <td>-0.056962</td>\n",
       "      <td>-0.279762</td>\n",
       "      <td>-0.572842</td>\n",
       "      <td>-0.339172</td>\n",
       "    </tr>\n",
       "  </tbody>\n",
       "</table>\n",
       "</div>"
      ],
      "text/plain": [
       "   val_0_min  val_1_min  val_2_min  val_3_min  val_4_min  val_0_max  \\\n",
       "0   5.333333        3.9   6.071429     14.000   4.111111  -2.457831   \n",
       "1   1.500000        0.9   0.571429      0.250   0.444444  -2.216867   \n",
       "2   2.333333        2.2   0.357143      0.375   0.666667  -2.120482   \n",
       "3   2.833333        1.5   0.642857      0.875   0.666667  -2.120482   \n",
       "4   2.333333        2.0   0.714286      0.500   1.000000  -2.216867   \n",
       "\n",
       "   val_2_max  val_3_max  val_4_max  val_5_max  val_5_mean  val_0_med  \\\n",
       "0  -0.375000      -2.88  -4.111111  -4.730435   -0.584114  -0.273438   \n",
       "1  -0.083333      -2.76  -3.888889  -4.626087   -0.590734  -0.273438   \n",
       "2  -0.291667      -2.72  -3.472222  -4.660870   -0.585835  -0.273438   \n",
       "3  -0.125000      -2.64  -3.638889  -4.660870   -0.588288  -0.273438   \n",
       "4   0.125000      -2.64  -3.777778  -4.626087   -0.586711  -0.273438   \n",
       "\n",
       "   val_2_med  val_3_med  val_4_std  val_4_var  \n",
       "0   0.113924  -0.166667  -0.665100  -0.346741  \n",
       "1   0.063291  -0.190476  -0.527824  -0.330740  \n",
       "2   0.050633  -0.220238  -0.585323  -0.340960  \n",
       "3   0.037975  -0.220238  -0.566961  -0.338247  \n",
       "4  -0.056962  -0.279762  -0.572842  -0.339172  "
      ]
     },
     "execution_count": 27,
     "metadata": {},
     "output_type": "execute_result"
    }
   ],
   "source": [
    "X_new = pd.DataFrame(data=selector.transform(X), columns=feature_names[selector.get_support()])\n",
    "X_new.head()"
   ]
  },
  {
   "cell_type": "code",
   "execution_count": 28,
   "id": "b426f0df",
   "metadata": {},
   "outputs": [],
   "source": [
    "X_train, X_test, y_train, y_test = train_test_split(X_new, y, test_size=0.25, random_state=100, shuffle=True)"
   ]
  },
  {
   "cell_type": "code",
   "execution_count": 29,
   "id": "02af9710",
   "metadata": {},
   "outputs": [
    {
     "name": "stdout",
     "output_type": "stream",
     "text": [
      "X_train shape: (751, 16)\n",
      "X_test shape: (251, 16)\n",
      "y_train shape: (751,)\n",
      "y_test shape: (251,)\n"
     ]
    }
   ],
   "source": [
    "print(f\"X_train shape: {X_train.shape}\")\n",
    "print(f\"X_test shape: {X_test.shape}\")\n",
    "print(f\"y_train shape: {y_train.shape}\")\n",
    "print(f\"y_test shape: {y_test.shape}\")"
   ]
  },
  {
   "cell_type": "code",
   "execution_count": 30,
   "id": "4d44d53e",
   "metadata": {},
   "outputs": [],
   "source": [
    "models = []"
   ]
  },
  {
   "cell_type": "markdown",
   "id": "1e91cbd3",
   "metadata": {},
   "source": [
    "## Linear Regression"
   ]
  },
  {
   "cell_type": "code",
   "execution_count": 31,
   "id": "e1fe7f9a",
   "metadata": {},
   "outputs": [],
   "source": [
    "from sklearn.linear_model import LinearRegression"
   ]
  },
  {
   "cell_type": "code",
   "execution_count": 32,
   "id": "8b07ffe2",
   "metadata": {},
   "outputs": [],
   "source": [
    "lm = LinearRegression()"
   ]
  },
  {
   "cell_type": "code",
   "execution_count": 33,
   "id": "3ab7d16b",
   "metadata": {},
   "outputs": [
    {
     "data": {
      "text/html": [
       "<style>#sk-container-id-2 {color: black;background-color: white;}#sk-container-id-2 pre{padding: 0;}#sk-container-id-2 div.sk-toggleable {background-color: white;}#sk-container-id-2 label.sk-toggleable__label {cursor: pointer;display: block;width: 100%;margin-bottom: 0;padding: 0.3em;box-sizing: border-box;text-align: center;}#sk-container-id-2 label.sk-toggleable__label-arrow:before {content: \"▸\";float: left;margin-right: 0.25em;color: #696969;}#sk-container-id-2 label.sk-toggleable__label-arrow:hover:before {color: black;}#sk-container-id-2 div.sk-estimator:hover label.sk-toggleable__label-arrow:before {color: black;}#sk-container-id-2 div.sk-toggleable__content {max-height: 0;max-width: 0;overflow: hidden;text-align: left;background-color: #f0f8ff;}#sk-container-id-2 div.sk-toggleable__content pre {margin: 0.2em;color: black;border-radius: 0.25em;background-color: #f0f8ff;}#sk-container-id-2 input.sk-toggleable__control:checked~div.sk-toggleable__content {max-height: 200px;max-width: 100%;overflow: auto;}#sk-container-id-2 input.sk-toggleable__control:checked~label.sk-toggleable__label-arrow:before {content: \"▾\";}#sk-container-id-2 div.sk-estimator input.sk-toggleable__control:checked~label.sk-toggleable__label {background-color: #d4ebff;}#sk-container-id-2 div.sk-label input.sk-toggleable__control:checked~label.sk-toggleable__label {background-color: #d4ebff;}#sk-container-id-2 input.sk-hidden--visually {border: 0;clip: rect(1px 1px 1px 1px);clip: rect(1px, 1px, 1px, 1px);height: 1px;margin: -1px;overflow: hidden;padding: 0;position: absolute;width: 1px;}#sk-container-id-2 div.sk-estimator {font-family: monospace;background-color: #f0f8ff;border: 1px dotted black;border-radius: 0.25em;box-sizing: border-box;margin-bottom: 0.5em;}#sk-container-id-2 div.sk-estimator:hover {background-color: #d4ebff;}#sk-container-id-2 div.sk-parallel-item::after {content: \"\";width: 100%;border-bottom: 1px solid gray;flex-grow: 1;}#sk-container-id-2 div.sk-label:hover label.sk-toggleable__label {background-color: #d4ebff;}#sk-container-id-2 div.sk-serial::before {content: \"\";position: absolute;border-left: 1px solid gray;box-sizing: border-box;top: 0;bottom: 0;left: 50%;z-index: 0;}#sk-container-id-2 div.sk-serial {display: flex;flex-direction: column;align-items: center;background-color: white;padding-right: 0.2em;padding-left: 0.2em;position: relative;}#sk-container-id-2 div.sk-item {position: relative;z-index: 1;}#sk-container-id-2 div.sk-parallel {display: flex;align-items: stretch;justify-content: center;background-color: white;position: relative;}#sk-container-id-2 div.sk-item::before, #sk-container-id-2 div.sk-parallel-item::before {content: \"\";position: absolute;border-left: 1px solid gray;box-sizing: border-box;top: 0;bottom: 0;left: 50%;z-index: -1;}#sk-container-id-2 div.sk-parallel-item {display: flex;flex-direction: column;z-index: 1;position: relative;background-color: white;}#sk-container-id-2 div.sk-parallel-item:first-child::after {align-self: flex-end;width: 50%;}#sk-container-id-2 div.sk-parallel-item:last-child::after {align-self: flex-start;width: 50%;}#sk-container-id-2 div.sk-parallel-item:only-child::after {width: 0;}#sk-container-id-2 div.sk-dashed-wrapped {border: 1px dashed gray;margin: 0 0.4em 0.5em 0.4em;box-sizing: border-box;padding-bottom: 0.4em;background-color: white;}#sk-container-id-2 div.sk-label label {font-family: monospace;font-weight: bold;display: inline-block;line-height: 1.2em;}#sk-container-id-2 div.sk-label-container {text-align: center;}#sk-container-id-2 div.sk-container {/* jupyter's `normalize.less` sets `[hidden] { display: none; }` but bootstrap.min.css set `[hidden] { display: none !important; }` so we also need the `!important` here to be able to override the default hidden behavior on the sphinx rendered scikit-learn.org. See: https://github.com/scikit-learn/scikit-learn/issues/21755 */display: inline-block !important;position: relative;}#sk-container-id-2 div.sk-text-repr-fallback {display: none;}</style><div id=\"sk-container-id-2\" class=\"sk-top-container\"><div class=\"sk-text-repr-fallback\"><pre>LinearRegression()</pre><b>In a Jupyter environment, please rerun this cell to show the HTML representation or trust the notebook. <br />On GitHub, the HTML representation is unable to render, please try loading this page with nbviewer.org.</b></div><div class=\"sk-container\" hidden><div class=\"sk-item\"><div class=\"sk-estimator sk-toggleable\"><input class=\"sk-toggleable__control sk-hidden--visually\" id=\"sk-estimator-id-2\" type=\"checkbox\" checked><label for=\"sk-estimator-id-2\" class=\"sk-toggleable__label sk-toggleable__label-arrow\">LinearRegression</label><div class=\"sk-toggleable__content\"><pre>LinearRegression()</pre></div></div></div></div></div>"
      ],
      "text/plain": [
       "LinearRegression()"
      ]
     },
     "execution_count": 33,
     "metadata": {},
     "output_type": "execute_result"
    }
   ],
   "source": [
    "lm.fit(X_train, y_train)"
   ]
  },
  {
   "cell_type": "code",
   "execution_count": 34,
   "id": "995d41e7",
   "metadata": {},
   "outputs": [],
   "source": [
    "pred = lm.predict(X_test)"
   ]
  },
  {
   "cell_type": "code",
   "execution_count": 35,
   "id": "63f31b0e",
   "metadata": {},
   "outputs": [],
   "source": [
    "from sklearn.metrics import mean_absolute_error"
   ]
  },
  {
   "cell_type": "code",
   "execution_count": 36,
   "id": "5d4827e9",
   "metadata": {},
   "outputs": [
    {
     "name": "stdout",
     "output_type": "stream",
     "text": [
      "MAE: 0.46753524936290886\n"
     ]
    }
   ],
   "source": [
    "mae_lm = mean_absolute_error(y_test, pred)\n",
    "print(f\"MAE: {mae_lm}\")"
   ]
  },
  {
   "cell_type": "code",
   "execution_count": 37,
   "id": "97f6333c",
   "metadata": {},
   "outputs": [],
   "source": [
    "models.append((mae_lm, lm))"
   ]
  },
  {
   "cell_type": "markdown",
   "id": "35a983cc",
   "metadata": {},
   "source": [
    "## PLS Regression"
   ]
  },
  {
   "cell_type": "code",
   "execution_count": 38,
   "id": "af61b6ee",
   "metadata": {},
   "outputs": [],
   "source": [
    "from sklearn.cross_decomposition import PLSRegression\n",
    "from sklearn.model_selection import GridSearchCV"
   ]
  },
  {
   "cell_type": "code",
   "execution_count": 39,
   "id": "d95a3e3c",
   "metadata": {},
   "outputs": [],
   "source": [
    "pls = PLSRegression()"
   ]
  },
  {
   "cell_type": "code",
   "execution_count": 40,
   "id": "711049ab",
   "metadata": {},
   "outputs": [],
   "source": [
    "parameters = {\n",
    "    'n_components' : [i for i in range(1, 16)],\n",
    "}"
   ]
  },
  {
   "cell_type": "code",
   "execution_count": 41,
   "id": "eec60469",
   "metadata": {},
   "outputs": [],
   "source": [
    "grid_search = GridSearchCV(estimator=pls,\n",
    "                           param_grid=parameters,\n",
    "                           n_jobs=-1,\n",
    "                           cv=10,\n",
    "                           scoring='neg_mean_absolute_error',\n",
    "                           error_score='raise')"
   ]
  },
  {
   "cell_type": "code",
   "execution_count": 42,
   "id": "0241f209",
   "metadata": {},
   "outputs": [
    {
     "data": {
      "text/html": [
       "<style>#sk-container-id-3 {color: black;background-color: white;}#sk-container-id-3 pre{padding: 0;}#sk-container-id-3 div.sk-toggleable {background-color: white;}#sk-container-id-3 label.sk-toggleable__label {cursor: pointer;display: block;width: 100%;margin-bottom: 0;padding: 0.3em;box-sizing: border-box;text-align: center;}#sk-container-id-3 label.sk-toggleable__label-arrow:before {content: \"▸\";float: left;margin-right: 0.25em;color: #696969;}#sk-container-id-3 label.sk-toggleable__label-arrow:hover:before {color: black;}#sk-container-id-3 div.sk-estimator:hover label.sk-toggleable__label-arrow:before {color: black;}#sk-container-id-3 div.sk-toggleable__content {max-height: 0;max-width: 0;overflow: hidden;text-align: left;background-color: #f0f8ff;}#sk-container-id-3 div.sk-toggleable__content pre {margin: 0.2em;color: black;border-radius: 0.25em;background-color: #f0f8ff;}#sk-container-id-3 input.sk-toggleable__control:checked~div.sk-toggleable__content {max-height: 200px;max-width: 100%;overflow: auto;}#sk-container-id-3 input.sk-toggleable__control:checked~label.sk-toggleable__label-arrow:before {content: \"▾\";}#sk-container-id-3 div.sk-estimator input.sk-toggleable__control:checked~label.sk-toggleable__label {background-color: #d4ebff;}#sk-container-id-3 div.sk-label input.sk-toggleable__control:checked~label.sk-toggleable__label {background-color: #d4ebff;}#sk-container-id-3 input.sk-hidden--visually {border: 0;clip: rect(1px 1px 1px 1px);clip: rect(1px, 1px, 1px, 1px);height: 1px;margin: -1px;overflow: hidden;padding: 0;position: absolute;width: 1px;}#sk-container-id-3 div.sk-estimator {font-family: monospace;background-color: #f0f8ff;border: 1px dotted black;border-radius: 0.25em;box-sizing: border-box;margin-bottom: 0.5em;}#sk-container-id-3 div.sk-estimator:hover {background-color: #d4ebff;}#sk-container-id-3 div.sk-parallel-item::after {content: \"\";width: 100%;border-bottom: 1px solid gray;flex-grow: 1;}#sk-container-id-3 div.sk-label:hover label.sk-toggleable__label {background-color: #d4ebff;}#sk-container-id-3 div.sk-serial::before {content: \"\";position: absolute;border-left: 1px solid gray;box-sizing: border-box;top: 0;bottom: 0;left: 50%;z-index: 0;}#sk-container-id-3 div.sk-serial {display: flex;flex-direction: column;align-items: center;background-color: white;padding-right: 0.2em;padding-left: 0.2em;position: relative;}#sk-container-id-3 div.sk-item {position: relative;z-index: 1;}#sk-container-id-3 div.sk-parallel {display: flex;align-items: stretch;justify-content: center;background-color: white;position: relative;}#sk-container-id-3 div.sk-item::before, #sk-container-id-3 div.sk-parallel-item::before {content: \"\";position: absolute;border-left: 1px solid gray;box-sizing: border-box;top: 0;bottom: 0;left: 50%;z-index: -1;}#sk-container-id-3 div.sk-parallel-item {display: flex;flex-direction: column;z-index: 1;position: relative;background-color: white;}#sk-container-id-3 div.sk-parallel-item:first-child::after {align-self: flex-end;width: 50%;}#sk-container-id-3 div.sk-parallel-item:last-child::after {align-self: flex-start;width: 50%;}#sk-container-id-3 div.sk-parallel-item:only-child::after {width: 0;}#sk-container-id-3 div.sk-dashed-wrapped {border: 1px dashed gray;margin: 0 0.4em 0.5em 0.4em;box-sizing: border-box;padding-bottom: 0.4em;background-color: white;}#sk-container-id-3 div.sk-label label {font-family: monospace;font-weight: bold;display: inline-block;line-height: 1.2em;}#sk-container-id-3 div.sk-label-container {text-align: center;}#sk-container-id-3 div.sk-container {/* jupyter's `normalize.less` sets `[hidden] { display: none; }` but bootstrap.min.css set `[hidden] { display: none !important; }` so we also need the `!important` here to be able to override the default hidden behavior on the sphinx rendered scikit-learn.org. See: https://github.com/scikit-learn/scikit-learn/issues/21755 */display: inline-block !important;position: relative;}#sk-container-id-3 div.sk-text-repr-fallback {display: none;}</style><div id=\"sk-container-id-3\" class=\"sk-top-container\"><div class=\"sk-text-repr-fallback\"><pre>GridSearchCV(cv=10, error_score=&#x27;raise&#x27;, estimator=PLSRegression(), n_jobs=-1,\n",
       "             param_grid={&#x27;n_components&#x27;: [1, 2, 3, 4, 5, 6, 7, 8, 9, 10, 11, 12,\n",
       "                                          13, 14, 15]},\n",
       "             scoring=&#x27;neg_mean_absolute_error&#x27;)</pre><b>In a Jupyter environment, please rerun this cell to show the HTML representation or trust the notebook. <br />On GitHub, the HTML representation is unable to render, please try loading this page with nbviewer.org.</b></div><div class=\"sk-container\" hidden><div class=\"sk-item sk-dashed-wrapped\"><div class=\"sk-label-container\"><div class=\"sk-label sk-toggleable\"><input class=\"sk-toggleable__control sk-hidden--visually\" id=\"sk-estimator-id-3\" type=\"checkbox\" ><label for=\"sk-estimator-id-3\" class=\"sk-toggleable__label sk-toggleable__label-arrow\">GridSearchCV</label><div class=\"sk-toggleable__content\"><pre>GridSearchCV(cv=10, error_score=&#x27;raise&#x27;, estimator=PLSRegression(), n_jobs=-1,\n",
       "             param_grid={&#x27;n_components&#x27;: [1, 2, 3, 4, 5, 6, 7, 8, 9, 10, 11, 12,\n",
       "                                          13, 14, 15]},\n",
       "             scoring=&#x27;neg_mean_absolute_error&#x27;)</pre></div></div></div><div class=\"sk-parallel\"><div class=\"sk-parallel-item\"><div class=\"sk-item\"><div class=\"sk-label-container\"><div class=\"sk-label sk-toggleable\"><input class=\"sk-toggleable__control sk-hidden--visually\" id=\"sk-estimator-id-4\" type=\"checkbox\" ><label for=\"sk-estimator-id-4\" class=\"sk-toggleable__label sk-toggleable__label-arrow\">estimator: PLSRegression</label><div class=\"sk-toggleable__content\"><pre>PLSRegression()</pre></div></div></div><div class=\"sk-serial\"><div class=\"sk-item\"><div class=\"sk-estimator sk-toggleable\"><input class=\"sk-toggleable__control sk-hidden--visually\" id=\"sk-estimator-id-5\" type=\"checkbox\" ><label for=\"sk-estimator-id-5\" class=\"sk-toggleable__label sk-toggleable__label-arrow\">PLSRegression</label><div class=\"sk-toggleable__content\"><pre>PLSRegression()</pre></div></div></div></div></div></div></div></div></div></div>"
      ],
      "text/plain": [
       "GridSearchCV(cv=10, error_score='raise', estimator=PLSRegression(), n_jobs=-1,\n",
       "             param_grid={'n_components': [1, 2, 3, 4, 5, 6, 7, 8, 9, 10, 11, 12,\n",
       "                                          13, 14, 15]},\n",
       "             scoring='neg_mean_absolute_error')"
      ]
     },
     "execution_count": 42,
     "metadata": {},
     "output_type": "execute_result"
    }
   ],
   "source": [
    "grid_search.fit(X_train, y_train)"
   ]
  },
  {
   "cell_type": "code",
   "execution_count": 43,
   "id": "7a02da0e",
   "metadata": {},
   "outputs": [
    {
     "name": "stdout",
     "output_type": "stream",
     "text": [
      "{'n_components': 5}\n"
     ]
    }
   ],
   "source": [
    "print(grid_search.best_params_)\n",
    "pls_best = grid_search.best_estimator_"
   ]
  },
  {
   "cell_type": "code",
   "execution_count": 44,
   "id": "4a00eebb",
   "metadata": {},
   "outputs": [],
   "source": [
    "pred = pls_best.predict(X_test)"
   ]
  },
  {
   "cell_type": "code",
   "execution_count": 45,
   "id": "398cd905",
   "metadata": {},
   "outputs": [
    {
     "name": "stdout",
     "output_type": "stream",
     "text": [
      "MAE: 0.45382139412992073\n"
     ]
    }
   ],
   "source": [
    "mae_pls = mean_absolute_error(y_test, pred)\n",
    "print(f\"MAE: {mae_pls}\")"
   ]
  },
  {
   "cell_type": "code",
   "execution_count": 46,
   "id": "474160fb",
   "metadata": {},
   "outputs": [],
   "source": [
    "models.append((mae_pls, pls_best))"
   ]
  },
  {
   "cell_type": "markdown",
   "id": "f00c08d1",
   "metadata": {},
   "source": [
    "## Ridge Regression"
   ]
  },
  {
   "cell_type": "code",
   "execution_count": 47,
   "id": "85da1201",
   "metadata": {},
   "outputs": [],
   "source": [
    "from sklearn.linear_model import Ridge"
   ]
  },
  {
   "cell_type": "code",
   "execution_count": 48,
   "id": "48e8870a",
   "metadata": {},
   "outputs": [],
   "source": [
    "ridge = Ridge(max_iter=5000)"
   ]
  },
  {
   "cell_type": "code",
   "execution_count": 49,
   "id": "e4ef8a7a",
   "metadata": {},
   "outputs": [],
   "source": [
    "parameters = {\n",
    "    'alpha' : (0.00001, 0.0001, 0.001, 0.01, 0.1, 1, 10, 50, 100),\n",
    "    'solver': ('svd', 'cholesky', 'lsqr', 'sparse_cg', 'sag', 'saga'),\n",
    "}"
   ]
  },
  {
   "cell_type": "code",
   "execution_count": 50,
   "id": "52e97fe5",
   "metadata": {},
   "outputs": [],
   "source": [
    "grid_search = GridSearchCV(estimator=ridge,\n",
    "                           param_grid=parameters,\n",
    "                           n_jobs=-1,\n",
    "                           cv=10,\n",
    "                           scoring='neg_mean_absolute_error',\n",
    "                           error_score='raise')"
   ]
  },
  {
   "cell_type": "code",
   "execution_count": 51,
   "id": "4db79f7d",
   "metadata": {},
   "outputs": [
    {
     "data": {
      "text/html": [
       "<style>#sk-container-id-4 {color: black;background-color: white;}#sk-container-id-4 pre{padding: 0;}#sk-container-id-4 div.sk-toggleable {background-color: white;}#sk-container-id-4 label.sk-toggleable__label {cursor: pointer;display: block;width: 100%;margin-bottom: 0;padding: 0.3em;box-sizing: border-box;text-align: center;}#sk-container-id-4 label.sk-toggleable__label-arrow:before {content: \"▸\";float: left;margin-right: 0.25em;color: #696969;}#sk-container-id-4 label.sk-toggleable__label-arrow:hover:before {color: black;}#sk-container-id-4 div.sk-estimator:hover label.sk-toggleable__label-arrow:before {color: black;}#sk-container-id-4 div.sk-toggleable__content {max-height: 0;max-width: 0;overflow: hidden;text-align: left;background-color: #f0f8ff;}#sk-container-id-4 div.sk-toggleable__content pre {margin: 0.2em;color: black;border-radius: 0.25em;background-color: #f0f8ff;}#sk-container-id-4 input.sk-toggleable__control:checked~div.sk-toggleable__content {max-height: 200px;max-width: 100%;overflow: auto;}#sk-container-id-4 input.sk-toggleable__control:checked~label.sk-toggleable__label-arrow:before {content: \"▾\";}#sk-container-id-4 div.sk-estimator input.sk-toggleable__control:checked~label.sk-toggleable__label {background-color: #d4ebff;}#sk-container-id-4 div.sk-label input.sk-toggleable__control:checked~label.sk-toggleable__label {background-color: #d4ebff;}#sk-container-id-4 input.sk-hidden--visually {border: 0;clip: rect(1px 1px 1px 1px);clip: rect(1px, 1px, 1px, 1px);height: 1px;margin: -1px;overflow: hidden;padding: 0;position: absolute;width: 1px;}#sk-container-id-4 div.sk-estimator {font-family: monospace;background-color: #f0f8ff;border: 1px dotted black;border-radius: 0.25em;box-sizing: border-box;margin-bottom: 0.5em;}#sk-container-id-4 div.sk-estimator:hover {background-color: #d4ebff;}#sk-container-id-4 div.sk-parallel-item::after {content: \"\";width: 100%;border-bottom: 1px solid gray;flex-grow: 1;}#sk-container-id-4 div.sk-label:hover label.sk-toggleable__label {background-color: #d4ebff;}#sk-container-id-4 div.sk-serial::before {content: \"\";position: absolute;border-left: 1px solid gray;box-sizing: border-box;top: 0;bottom: 0;left: 50%;z-index: 0;}#sk-container-id-4 div.sk-serial {display: flex;flex-direction: column;align-items: center;background-color: white;padding-right: 0.2em;padding-left: 0.2em;position: relative;}#sk-container-id-4 div.sk-item {position: relative;z-index: 1;}#sk-container-id-4 div.sk-parallel {display: flex;align-items: stretch;justify-content: center;background-color: white;position: relative;}#sk-container-id-4 div.sk-item::before, #sk-container-id-4 div.sk-parallel-item::before {content: \"\";position: absolute;border-left: 1px solid gray;box-sizing: border-box;top: 0;bottom: 0;left: 50%;z-index: -1;}#sk-container-id-4 div.sk-parallel-item {display: flex;flex-direction: column;z-index: 1;position: relative;background-color: white;}#sk-container-id-4 div.sk-parallel-item:first-child::after {align-self: flex-end;width: 50%;}#sk-container-id-4 div.sk-parallel-item:last-child::after {align-self: flex-start;width: 50%;}#sk-container-id-4 div.sk-parallel-item:only-child::after {width: 0;}#sk-container-id-4 div.sk-dashed-wrapped {border: 1px dashed gray;margin: 0 0.4em 0.5em 0.4em;box-sizing: border-box;padding-bottom: 0.4em;background-color: white;}#sk-container-id-4 div.sk-label label {font-family: monospace;font-weight: bold;display: inline-block;line-height: 1.2em;}#sk-container-id-4 div.sk-label-container {text-align: center;}#sk-container-id-4 div.sk-container {/* jupyter's `normalize.less` sets `[hidden] { display: none; }` but bootstrap.min.css set `[hidden] { display: none !important; }` so we also need the `!important` here to be able to override the default hidden behavior on the sphinx rendered scikit-learn.org. See: https://github.com/scikit-learn/scikit-learn/issues/21755 */display: inline-block !important;position: relative;}#sk-container-id-4 div.sk-text-repr-fallback {display: none;}</style><div id=\"sk-container-id-4\" class=\"sk-top-container\"><div class=\"sk-text-repr-fallback\"><pre>GridSearchCV(cv=10, error_score=&#x27;raise&#x27;, estimator=Ridge(max_iter=5000),\n",
       "             n_jobs=-1,\n",
       "             param_grid={&#x27;alpha&#x27;: (1e-05, 0.0001, 0.001, 0.01, 0.1, 1, 10, 50,\n",
       "                                   100),\n",
       "                         &#x27;solver&#x27;: (&#x27;svd&#x27;, &#x27;cholesky&#x27;, &#x27;lsqr&#x27;, &#x27;sparse_cg&#x27;,\n",
       "                                    &#x27;sag&#x27;, &#x27;saga&#x27;)},\n",
       "             scoring=&#x27;neg_mean_absolute_error&#x27;)</pre><b>In a Jupyter environment, please rerun this cell to show the HTML representation or trust the notebook. <br />On GitHub, the HTML representation is unable to render, please try loading this page with nbviewer.org.</b></div><div class=\"sk-container\" hidden><div class=\"sk-item sk-dashed-wrapped\"><div class=\"sk-label-container\"><div class=\"sk-label sk-toggleable\"><input class=\"sk-toggleable__control sk-hidden--visually\" id=\"sk-estimator-id-6\" type=\"checkbox\" ><label for=\"sk-estimator-id-6\" class=\"sk-toggleable__label sk-toggleable__label-arrow\">GridSearchCV</label><div class=\"sk-toggleable__content\"><pre>GridSearchCV(cv=10, error_score=&#x27;raise&#x27;, estimator=Ridge(max_iter=5000),\n",
       "             n_jobs=-1,\n",
       "             param_grid={&#x27;alpha&#x27;: (1e-05, 0.0001, 0.001, 0.01, 0.1, 1, 10, 50,\n",
       "                                   100),\n",
       "                         &#x27;solver&#x27;: (&#x27;svd&#x27;, &#x27;cholesky&#x27;, &#x27;lsqr&#x27;, &#x27;sparse_cg&#x27;,\n",
       "                                    &#x27;sag&#x27;, &#x27;saga&#x27;)},\n",
       "             scoring=&#x27;neg_mean_absolute_error&#x27;)</pre></div></div></div><div class=\"sk-parallel\"><div class=\"sk-parallel-item\"><div class=\"sk-item\"><div class=\"sk-label-container\"><div class=\"sk-label sk-toggleable\"><input class=\"sk-toggleable__control sk-hidden--visually\" id=\"sk-estimator-id-7\" type=\"checkbox\" ><label for=\"sk-estimator-id-7\" class=\"sk-toggleable__label sk-toggleable__label-arrow\">estimator: Ridge</label><div class=\"sk-toggleable__content\"><pre>Ridge(max_iter=5000)</pre></div></div></div><div class=\"sk-serial\"><div class=\"sk-item\"><div class=\"sk-estimator sk-toggleable\"><input class=\"sk-toggleable__control sk-hidden--visually\" id=\"sk-estimator-id-8\" type=\"checkbox\" ><label for=\"sk-estimator-id-8\" class=\"sk-toggleable__label sk-toggleable__label-arrow\">Ridge</label><div class=\"sk-toggleable__content\"><pre>Ridge(max_iter=5000)</pre></div></div></div></div></div></div></div></div></div></div>"
      ],
      "text/plain": [
       "GridSearchCV(cv=10, error_score='raise', estimator=Ridge(max_iter=5000),\n",
       "             n_jobs=-1,\n",
       "             param_grid={'alpha': (1e-05, 0.0001, 0.001, 0.01, 0.1, 1, 10, 50,\n",
       "                                   100),\n",
       "                         'solver': ('svd', 'cholesky', 'lsqr', 'sparse_cg',\n",
       "                                    'sag', 'saga')},\n",
       "             scoring='neg_mean_absolute_error')"
      ]
     },
     "execution_count": 51,
     "metadata": {},
     "output_type": "execute_result"
    }
   ],
   "source": [
    "grid_search.fit(X_train, y_train)"
   ]
  },
  {
   "cell_type": "code",
   "execution_count": 52,
   "id": "eb3a9437",
   "metadata": {},
   "outputs": [
    {
     "name": "stdout",
     "output_type": "stream",
     "text": [
      "{'alpha': 0.001, 'solver': 'sparse_cg'}\n"
     ]
    }
   ],
   "source": [
    "print(grid_search.best_params_)\n",
    "ridge_best = grid_search.best_estimator_"
   ]
  },
  {
   "cell_type": "code",
   "execution_count": 53,
   "id": "4a6ee7be",
   "metadata": {},
   "outputs": [],
   "source": [
    "pred = ridge_best.predict(X_test)"
   ]
  },
  {
   "cell_type": "code",
   "execution_count": 54,
   "id": "31d19f89",
   "metadata": {
    "scrolled": true
   },
   "outputs": [
    {
     "name": "stdout",
     "output_type": "stream",
     "text": [
      "MAE: 0.4665196149049646\n"
     ]
    }
   ],
   "source": [
    "mae_ridge = mean_absolute_error(y_test, pred)\n",
    "print(f\"MAE: {mae_ridge}\")"
   ]
  },
  {
   "cell_type": "code",
   "execution_count": 55,
   "id": "fe1e5c5b",
   "metadata": {},
   "outputs": [],
   "source": [
    "models.append((mae_ridge, ridge_best))"
   ]
  },
  {
   "cell_type": "markdown",
   "id": "f4afdb55",
   "metadata": {},
   "source": [
    "## Lasso Regression"
   ]
  },
  {
   "cell_type": "code",
   "execution_count": 56,
   "id": "d1906f20",
   "metadata": {},
   "outputs": [],
   "source": [
    "from sklearn.linear_model import Lasso"
   ]
  },
  {
   "cell_type": "code",
   "execution_count": 57,
   "id": "e77ced2e",
   "metadata": {},
   "outputs": [],
   "source": [
    "lasso = Lasso(max_iter=5000)"
   ]
  },
  {
   "cell_type": "code",
   "execution_count": 58,
   "id": "4e85d870",
   "metadata": {},
   "outputs": [],
   "source": [
    "parameters = {\n",
    "    'alpha' : (0.000001, 0.00001, 0.0001, 0.001, 0.01, 0.1, 1, 10, 50, 100),\n",
    "    'selection': ('cyclic', 'random'),\n",
    "}"
   ]
  },
  {
   "cell_type": "code",
   "execution_count": 59,
   "id": "1a593f15",
   "metadata": {},
   "outputs": [],
   "source": [
    "grid_search = GridSearchCV(estimator=lasso,\n",
    "                           param_grid=parameters,\n",
    "                           n_jobs=-1,\n",
    "                           cv=10,\n",
    "                           scoring='neg_mean_absolute_error',\n",
    "                           error_score='raise')"
   ]
  },
  {
   "cell_type": "code",
   "execution_count": 60,
   "id": "d1e562f6",
   "metadata": {
    "scrolled": false
   },
   "outputs": [
    {
     "data": {
      "text/html": [
       "<style>#sk-container-id-5 {color: black;background-color: white;}#sk-container-id-5 pre{padding: 0;}#sk-container-id-5 div.sk-toggleable {background-color: white;}#sk-container-id-5 label.sk-toggleable__label {cursor: pointer;display: block;width: 100%;margin-bottom: 0;padding: 0.3em;box-sizing: border-box;text-align: center;}#sk-container-id-5 label.sk-toggleable__label-arrow:before {content: \"▸\";float: left;margin-right: 0.25em;color: #696969;}#sk-container-id-5 label.sk-toggleable__label-arrow:hover:before {color: black;}#sk-container-id-5 div.sk-estimator:hover label.sk-toggleable__label-arrow:before {color: black;}#sk-container-id-5 div.sk-toggleable__content {max-height: 0;max-width: 0;overflow: hidden;text-align: left;background-color: #f0f8ff;}#sk-container-id-5 div.sk-toggleable__content pre {margin: 0.2em;color: black;border-radius: 0.25em;background-color: #f0f8ff;}#sk-container-id-5 input.sk-toggleable__control:checked~div.sk-toggleable__content {max-height: 200px;max-width: 100%;overflow: auto;}#sk-container-id-5 input.sk-toggleable__control:checked~label.sk-toggleable__label-arrow:before {content: \"▾\";}#sk-container-id-5 div.sk-estimator input.sk-toggleable__control:checked~label.sk-toggleable__label {background-color: #d4ebff;}#sk-container-id-5 div.sk-label input.sk-toggleable__control:checked~label.sk-toggleable__label {background-color: #d4ebff;}#sk-container-id-5 input.sk-hidden--visually {border: 0;clip: rect(1px 1px 1px 1px);clip: rect(1px, 1px, 1px, 1px);height: 1px;margin: -1px;overflow: hidden;padding: 0;position: absolute;width: 1px;}#sk-container-id-5 div.sk-estimator {font-family: monospace;background-color: #f0f8ff;border: 1px dotted black;border-radius: 0.25em;box-sizing: border-box;margin-bottom: 0.5em;}#sk-container-id-5 div.sk-estimator:hover {background-color: #d4ebff;}#sk-container-id-5 div.sk-parallel-item::after {content: \"\";width: 100%;border-bottom: 1px solid gray;flex-grow: 1;}#sk-container-id-5 div.sk-label:hover label.sk-toggleable__label {background-color: #d4ebff;}#sk-container-id-5 div.sk-serial::before {content: \"\";position: absolute;border-left: 1px solid gray;box-sizing: border-box;top: 0;bottom: 0;left: 50%;z-index: 0;}#sk-container-id-5 div.sk-serial {display: flex;flex-direction: column;align-items: center;background-color: white;padding-right: 0.2em;padding-left: 0.2em;position: relative;}#sk-container-id-5 div.sk-item {position: relative;z-index: 1;}#sk-container-id-5 div.sk-parallel {display: flex;align-items: stretch;justify-content: center;background-color: white;position: relative;}#sk-container-id-5 div.sk-item::before, #sk-container-id-5 div.sk-parallel-item::before {content: \"\";position: absolute;border-left: 1px solid gray;box-sizing: border-box;top: 0;bottom: 0;left: 50%;z-index: -1;}#sk-container-id-5 div.sk-parallel-item {display: flex;flex-direction: column;z-index: 1;position: relative;background-color: white;}#sk-container-id-5 div.sk-parallel-item:first-child::after {align-self: flex-end;width: 50%;}#sk-container-id-5 div.sk-parallel-item:last-child::after {align-self: flex-start;width: 50%;}#sk-container-id-5 div.sk-parallel-item:only-child::after {width: 0;}#sk-container-id-5 div.sk-dashed-wrapped {border: 1px dashed gray;margin: 0 0.4em 0.5em 0.4em;box-sizing: border-box;padding-bottom: 0.4em;background-color: white;}#sk-container-id-5 div.sk-label label {font-family: monospace;font-weight: bold;display: inline-block;line-height: 1.2em;}#sk-container-id-5 div.sk-label-container {text-align: center;}#sk-container-id-5 div.sk-container {/* jupyter's `normalize.less` sets `[hidden] { display: none; }` but bootstrap.min.css set `[hidden] { display: none !important; }` so we also need the `!important` here to be able to override the default hidden behavior on the sphinx rendered scikit-learn.org. See: https://github.com/scikit-learn/scikit-learn/issues/21755 */display: inline-block !important;position: relative;}#sk-container-id-5 div.sk-text-repr-fallback {display: none;}</style><div id=\"sk-container-id-5\" class=\"sk-top-container\"><div class=\"sk-text-repr-fallback\"><pre>GridSearchCV(cv=10, error_score=&#x27;raise&#x27;, estimator=Lasso(max_iter=5000),\n",
       "             n_jobs=-1,\n",
       "             param_grid={&#x27;alpha&#x27;: (1e-06, 1e-05, 0.0001, 0.001, 0.01, 0.1, 1,\n",
       "                                   10, 50, 100),\n",
       "                         &#x27;selection&#x27;: (&#x27;cyclic&#x27;, &#x27;random&#x27;)},\n",
       "             scoring=&#x27;neg_mean_absolute_error&#x27;)</pre><b>In a Jupyter environment, please rerun this cell to show the HTML representation or trust the notebook. <br />On GitHub, the HTML representation is unable to render, please try loading this page with nbviewer.org.</b></div><div class=\"sk-container\" hidden><div class=\"sk-item sk-dashed-wrapped\"><div class=\"sk-label-container\"><div class=\"sk-label sk-toggleable\"><input class=\"sk-toggleable__control sk-hidden--visually\" id=\"sk-estimator-id-9\" type=\"checkbox\" ><label for=\"sk-estimator-id-9\" class=\"sk-toggleable__label sk-toggleable__label-arrow\">GridSearchCV</label><div class=\"sk-toggleable__content\"><pre>GridSearchCV(cv=10, error_score=&#x27;raise&#x27;, estimator=Lasso(max_iter=5000),\n",
       "             n_jobs=-1,\n",
       "             param_grid={&#x27;alpha&#x27;: (1e-06, 1e-05, 0.0001, 0.001, 0.01, 0.1, 1,\n",
       "                                   10, 50, 100),\n",
       "                         &#x27;selection&#x27;: (&#x27;cyclic&#x27;, &#x27;random&#x27;)},\n",
       "             scoring=&#x27;neg_mean_absolute_error&#x27;)</pre></div></div></div><div class=\"sk-parallel\"><div class=\"sk-parallel-item\"><div class=\"sk-item\"><div class=\"sk-label-container\"><div class=\"sk-label sk-toggleable\"><input class=\"sk-toggleable__control sk-hidden--visually\" id=\"sk-estimator-id-10\" type=\"checkbox\" ><label for=\"sk-estimator-id-10\" class=\"sk-toggleable__label sk-toggleable__label-arrow\">estimator: Lasso</label><div class=\"sk-toggleable__content\"><pre>Lasso(max_iter=5000)</pre></div></div></div><div class=\"sk-serial\"><div class=\"sk-item\"><div class=\"sk-estimator sk-toggleable\"><input class=\"sk-toggleable__control sk-hidden--visually\" id=\"sk-estimator-id-11\" type=\"checkbox\" ><label for=\"sk-estimator-id-11\" class=\"sk-toggleable__label sk-toggleable__label-arrow\">Lasso</label><div class=\"sk-toggleable__content\"><pre>Lasso(max_iter=5000)</pre></div></div></div></div></div></div></div></div></div></div>"
      ],
      "text/plain": [
       "GridSearchCV(cv=10, error_score='raise', estimator=Lasso(max_iter=5000),\n",
       "             n_jobs=-1,\n",
       "             param_grid={'alpha': (1e-06, 1e-05, 0.0001, 0.001, 0.01, 0.1, 1,\n",
       "                                   10, 50, 100),\n",
       "                         'selection': ('cyclic', 'random')},\n",
       "             scoring='neg_mean_absolute_error')"
      ]
     },
     "execution_count": 60,
     "metadata": {},
     "output_type": "execute_result"
    }
   ],
   "source": [
    "grid_search.fit(X_train, y_train)"
   ]
  },
  {
   "cell_type": "code",
   "execution_count": 61,
   "id": "83eccf9d",
   "metadata": {},
   "outputs": [
    {
     "name": "stdout",
     "output_type": "stream",
     "text": [
      "{'alpha': 0.01, 'selection': 'random'}\n"
     ]
    }
   ],
   "source": [
    "print(grid_search.best_params_)\n",
    "lasso_best = grid_search.best_estimator_"
   ]
  },
  {
   "cell_type": "code",
   "execution_count": 62,
   "id": "25ed7376",
   "metadata": {},
   "outputs": [],
   "source": [
    "pred = lasso_best.predict(X_test)"
   ]
  },
  {
   "cell_type": "code",
   "execution_count": 63,
   "id": "c1c5708e",
   "metadata": {},
   "outputs": [
    {
     "name": "stdout",
     "output_type": "stream",
     "text": [
      "MAE: 0.45798740932340093\n"
     ]
    }
   ],
   "source": [
    "mae_lasso = mean_absolute_error(y_test, pred)\n",
    "print(f\"MAE: {mae_lasso}\")"
   ]
  },
  {
   "cell_type": "code",
   "execution_count": 64,
   "id": "752e378d",
   "metadata": {},
   "outputs": [],
   "source": [
    "models.append((mae_lasso, lasso_best))"
   ]
  },
  {
   "cell_type": "markdown",
   "id": "be83b04a",
   "metadata": {},
   "source": [
    "## Gradient Boosting Regression"
   ]
  },
  {
   "cell_type": "code",
   "execution_count": 65,
   "id": "fdb5cc6b",
   "metadata": {},
   "outputs": [],
   "source": [
    "from sklearn.ensemble import GradientBoostingRegressor"
   ]
  },
  {
   "cell_type": "code",
   "execution_count": 66,
   "id": "c949ce83",
   "metadata": {},
   "outputs": [],
   "source": [
    "gbr_best = GradientBoostingRegressor(alpha=0.001, max_depth=1250, max_features=4, min_samples_leaf=2, min_samples_split=10, n_estimators=750)"
   ]
  },
  {
   "cell_type": "markdown",
   "id": "33f41bce",
   "metadata": {},
   "source": [
    "Best parameters after doing GridSearchCV."
   ]
  },
  {
   "attachments": {
    "Screenshot%20from%202023-02-06%2018-42-40.png": {
     "image/png": "[encoded data removed]"
    }
   },
   "cell_type": "markdown",
   "id": "6fbc696c",
   "metadata": {},
   "source": [
    "![Screenshot%20from%202023-02-06%2018-42-40.png](attachment:Screenshot%20from%202023-02-06%2018-42-40.png)"
   ]
  },
  {
   "attachments": {
    "Screenshot%20from%202023-02-06%2018-42-55.png": {
     "image/png": "[encoded data removed]"
    }
   },
   "cell_type": "markdown",
   "id": "eebbe2c3",
   "metadata": {},
   "source": [
    "![Screenshot%20from%202023-02-06%2018-42-55.png](attachment:Screenshot%20from%202023-02-06%2018-42-55.png)"
   ]
  },
  {
   "attachments": {
    "Screenshot%20from%202023-02-06%2018-43-27.png": {
     "image/png": "[encoded data removed]"
    }
   },
   "cell_type": "markdown",
   "id": "ede623a8",
   "metadata": {},
   "source": [
    "![Screenshot%20from%202023-02-06%2018-43-27.png](attachment:Screenshot%20from%202023-02-06%2018-43-27.png)"
   ]
  },
  {
   "cell_type": "markdown",
   "id": "b41a3830",
   "metadata": {},
   "source": [
    "GridSeachCV is not needed anymore because we found the best parameters."
   ]
  },
  {
   "cell_type": "code",
   "execution_count": 67,
   "id": "b82a203e",
   "metadata": {},
   "outputs": [],
   "source": [
    "# grid_search = GridSearchCV(estimator=gbr,\n",
    "#                            param_grid=parameters,\n",
    "#                            n_jobs=-1,\n",
    "#                            cv=10,\n",
    "#                            scoring='neg_mean_absolute_error',\n",
    "#                            error_score='raise')"
   ]
  },
  {
   "cell_type": "code",
   "execution_count": 68,
   "id": "6ea17393",
   "metadata": {
    "scrolled": false
   },
   "outputs": [
    {
     "data": {
      "text/html": [
       "<style>#sk-container-id-6 {color: black;background-color: white;}#sk-container-id-6 pre{padding: 0;}#sk-container-id-6 div.sk-toggleable {background-color: white;}#sk-container-id-6 label.sk-toggleable__label {cursor: pointer;display: block;width: 100%;margin-bottom: 0;padding: 0.3em;box-sizing: border-box;text-align: center;}#sk-container-id-6 label.sk-toggleable__label-arrow:before {content: \"▸\";float: left;margin-right: 0.25em;color: #696969;}#sk-container-id-6 label.sk-toggleable__label-arrow:hover:before {color: black;}#sk-container-id-6 div.sk-estimator:hover label.sk-toggleable__label-arrow:before {color: black;}#sk-container-id-6 div.sk-toggleable__content {max-height: 0;max-width: 0;overflow: hidden;text-align: left;background-color: #f0f8ff;}#sk-container-id-6 div.sk-toggleable__content pre {margin: 0.2em;color: black;border-radius: 0.25em;background-color: #f0f8ff;}#sk-container-id-6 input.sk-toggleable__control:checked~div.sk-toggleable__content {max-height: 200px;max-width: 100%;overflow: auto;}#sk-container-id-6 input.sk-toggleable__control:checked~label.sk-toggleable__label-arrow:before {content: \"▾\";}#sk-container-id-6 div.sk-estimator input.sk-toggleable__control:checked~label.sk-toggleable__label {background-color: #d4ebff;}#sk-container-id-6 div.sk-label input.sk-toggleable__control:checked~label.sk-toggleable__label {background-color: #d4ebff;}#sk-container-id-6 input.sk-hidden--visually {border: 0;clip: rect(1px 1px 1px 1px);clip: rect(1px, 1px, 1px, 1px);height: 1px;margin: -1px;overflow: hidden;padding: 0;position: absolute;width: 1px;}#sk-container-id-6 div.sk-estimator {font-family: monospace;background-color: #f0f8ff;border: 1px dotted black;border-radius: 0.25em;box-sizing: border-box;margin-bottom: 0.5em;}#sk-container-id-6 div.sk-estimator:hover {background-color: #d4ebff;}#sk-container-id-6 div.sk-parallel-item::after {content: \"\";width: 100%;border-bottom: 1px solid gray;flex-grow: 1;}#sk-container-id-6 div.sk-label:hover label.sk-toggleable__label {background-color: #d4ebff;}#sk-container-id-6 div.sk-serial::before {content: \"\";position: absolute;border-left: 1px solid gray;box-sizing: border-box;top: 0;bottom: 0;left: 50%;z-index: 0;}#sk-container-id-6 div.sk-serial {display: flex;flex-direction: column;align-items: center;background-color: white;padding-right: 0.2em;padding-left: 0.2em;position: relative;}#sk-container-id-6 div.sk-item {position: relative;z-index: 1;}#sk-container-id-6 div.sk-parallel {display: flex;align-items: stretch;justify-content: center;background-color: white;position: relative;}#sk-container-id-6 div.sk-item::before, #sk-container-id-6 div.sk-parallel-item::before {content: \"\";position: absolute;border-left: 1px solid gray;box-sizing: border-box;top: 0;bottom: 0;left: 50%;z-index: -1;}#sk-container-id-6 div.sk-parallel-item {display: flex;flex-direction: column;z-index: 1;position: relative;background-color: white;}#sk-container-id-6 div.sk-parallel-item:first-child::after {align-self: flex-end;width: 50%;}#sk-container-id-6 div.sk-parallel-item:last-child::after {align-self: flex-start;width: 50%;}#sk-container-id-6 div.sk-parallel-item:only-child::after {width: 0;}#sk-container-id-6 div.sk-dashed-wrapped {border: 1px dashed gray;margin: 0 0.4em 0.5em 0.4em;box-sizing: border-box;padding-bottom: 0.4em;background-color: white;}#sk-container-id-6 div.sk-label label {font-family: monospace;font-weight: bold;display: inline-block;line-height: 1.2em;}#sk-container-id-6 div.sk-label-container {text-align: center;}#sk-container-id-6 div.sk-container {/* jupyter's `normalize.less` sets `[hidden] { display: none; }` but bootstrap.min.css set `[hidden] { display: none !important; }` so we also need the `!important` here to be able to override the default hidden behavior on the sphinx rendered scikit-learn.org. See: https://github.com/scikit-learn/scikit-learn/issues/21755 */display: inline-block !important;position: relative;}#sk-container-id-6 div.sk-text-repr-fallback {display: none;}</style><div id=\"sk-container-id-6\" class=\"sk-top-container\"><div class=\"sk-text-repr-fallback\"><pre>GradientBoostingRegressor(alpha=0.001, max_depth=1250, max_features=4,\n",
       "                          min_samples_leaf=2, min_samples_split=10,\n",
       "                          n_estimators=750)</pre><b>In a Jupyter environment, please rerun this cell to show the HTML representation or trust the notebook. <br />On GitHub, the HTML representation is unable to render, please try loading this page with nbviewer.org.</b></div><div class=\"sk-container\" hidden><div class=\"sk-item\"><div class=\"sk-estimator sk-toggleable\"><input class=\"sk-toggleable__control sk-hidden--visually\" id=\"sk-estimator-id-12\" type=\"checkbox\" checked><label for=\"sk-estimator-id-12\" class=\"sk-toggleable__label sk-toggleable__label-arrow\">GradientBoostingRegressor</label><div class=\"sk-toggleable__content\"><pre>GradientBoostingRegressor(alpha=0.001, max_depth=1250, max_features=4,\n",
       "                          min_samples_leaf=2, min_samples_split=10,\n",
       "                          n_estimators=750)</pre></div></div></div></div></div>"
      ],
      "text/plain": [
       "GradientBoostingRegressor(alpha=0.001, max_depth=1250, max_features=4,\n",
       "                          min_samples_leaf=2, min_samples_split=10,\n",
       "                          n_estimators=750)"
      ]
     },
     "execution_count": 68,
     "metadata": {},
     "output_type": "execute_result"
    }
   ],
   "source": [
    "gbr_best.fit(X_train, y_train)"
   ]
  },
  {
   "cell_type": "code",
   "execution_count": 69,
   "id": "05071e1c",
   "metadata": {},
   "outputs": [],
   "source": [
    "pred = gbr_best.predict(X_test)"
   ]
  },
  {
   "cell_type": "code",
   "execution_count": 70,
   "id": "79a94a28",
   "metadata": {},
   "outputs": [
    {
     "name": "stdout",
     "output_type": "stream",
     "text": [
      "MAE: 0.19867258362581205\n"
     ]
    }
   ],
   "source": [
    "mae_gbr = mean_absolute_error(y_test, pred)\n",
    "print(f\"MAE: {mae_gbr}\")"
   ]
  },
  {
   "cell_type": "code",
   "execution_count": 71,
   "id": "807f4dcb",
   "metadata": {},
   "outputs": [],
   "source": [
    "models.append((mae_gbr, gbr_best))"
   ]
  },
  {
   "cell_type": "markdown",
   "id": "9d5cf0e4",
   "metadata": {},
   "source": [
    "## Decision Tree Regressor"
   ]
  },
  {
   "cell_type": "code",
   "execution_count": 72,
   "id": "afe88520",
   "metadata": {},
   "outputs": [],
   "source": [
    "from sklearn.tree import DecisionTreeRegressor"
   ]
  },
  {
   "cell_type": "code",
   "execution_count": 73,
   "id": "f2bff766",
   "metadata": {},
   "outputs": [],
   "source": [
    "dtree_best = DecisionTreeRegressor(criterion='friedman_mse', max_depth=2000, max_features=6, min_samples_leaf=1, min_samples_split=3, splitter='best')"
   ]
  },
  {
   "cell_type": "markdown",
   "id": "c25c3bf4",
   "metadata": {},
   "source": [
    "Best parameters after doing GridSearchCV."
   ]
  },
  {
   "attachments": {
    "Screenshot%20from%202023-02-06%2018-43-55.png": {
     "image/png": "[encoded data removed]"
    }
   },
   "cell_type": "markdown",
   "id": "130505e3",
   "metadata": {},
   "source": [
    "![Screenshot%20from%202023-02-06%2018-43-55.png](attachment:Screenshot%20from%202023-02-06%2018-43-55.png)"
   ]
  },
  {
   "attachments": {
    "Screenshot%20from%202023-02-06%2018-50-38.png": {
     "image/png": "[encoded data removed]"
    }
   },
   "cell_type": "markdown",
   "id": "02316557",
   "metadata": {},
   "source": [
    "![Screenshot%20from%202023-02-06%2018-50-38.png](attachment:Screenshot%20from%202023-02-06%2018-50-38.png)"
   ]
  },
  {
   "attachments": {
    "Screenshot%20from%202023-02-06%2018-51-13.png": {
     "image/png": "[encoded data removed]"
    }
   },
   "cell_type": "markdown",
   "id": "91c9a7bb",
   "metadata": {},
   "source": [
    "![Screenshot%20from%202023-02-06%2018-51-13.png](attachment:Screenshot%20from%202023-02-06%2018-51-13.png)"
   ]
  },
  {
   "cell_type": "markdown",
   "id": "1fc69c30",
   "metadata": {},
   "source": [
    "GridSeachCV is not needed anymore because we found the best parameters."
   ]
  },
  {
   "cell_type": "code",
   "execution_count": 74,
   "id": "e8ed6123",
   "metadata": {},
   "outputs": [],
   "source": [
    "# grid_search = GridSearchCV(estimator=dtree,\n",
    "#                            param_grid=parameters,\n",
    "#                            n_jobs=-1,\n",
    "#                            cv=10,\n",
    "#                            scoring='neg_mean_absolute_error',\n",
    "#                            error_score='raise')"
   ]
  },
  {
   "cell_type": "code",
   "execution_count": 75,
   "id": "1940af72",
   "metadata": {},
   "outputs": [
    {
     "data": {
      "text/html": [
       "<style>#sk-container-id-7 {color: black;background-color: white;}#sk-container-id-7 pre{padding: 0;}#sk-container-id-7 div.sk-toggleable {background-color: white;}#sk-container-id-7 label.sk-toggleable__label {cursor: pointer;display: block;width: 100%;margin-bottom: 0;padding: 0.3em;box-sizing: border-box;text-align: center;}#sk-container-id-7 label.sk-toggleable__label-arrow:before {content: \"▸\";float: left;margin-right: 0.25em;color: #696969;}#sk-container-id-7 label.sk-toggleable__label-arrow:hover:before {color: black;}#sk-container-id-7 div.sk-estimator:hover label.sk-toggleable__label-arrow:before {color: black;}#sk-container-id-7 div.sk-toggleable__content {max-height: 0;max-width: 0;overflow: hidden;text-align: left;background-color: #f0f8ff;}#sk-container-id-7 div.sk-toggleable__content pre {margin: 0.2em;color: black;border-radius: 0.25em;background-color: #f0f8ff;}#sk-container-id-7 input.sk-toggleable__control:checked~div.sk-toggleable__content {max-height: 200px;max-width: 100%;overflow: auto;}#sk-container-id-7 input.sk-toggleable__control:checked~label.sk-toggleable__label-arrow:before {content: \"▾\";}#sk-container-id-7 div.sk-estimator input.sk-toggleable__control:checked~label.sk-toggleable__label {background-color: #d4ebff;}#sk-container-id-7 div.sk-label input.sk-toggleable__control:checked~label.sk-toggleable__label {background-color: #d4ebff;}#sk-container-id-7 input.sk-hidden--visually {border: 0;clip: rect(1px 1px 1px 1px);clip: rect(1px, 1px, 1px, 1px);height: 1px;margin: -1px;overflow: hidden;padding: 0;position: absolute;width: 1px;}#sk-container-id-7 div.sk-estimator {font-family: monospace;background-color: #f0f8ff;border: 1px dotted black;border-radius: 0.25em;box-sizing: border-box;margin-bottom: 0.5em;}#sk-container-id-7 div.sk-estimator:hover {background-color: #d4ebff;}#sk-container-id-7 div.sk-parallel-item::after {content: \"\";width: 100%;border-bottom: 1px solid gray;flex-grow: 1;}#sk-container-id-7 div.sk-label:hover label.sk-toggleable__label {background-color: #d4ebff;}#sk-container-id-7 div.sk-serial::before {content: \"\";position: absolute;border-left: 1px solid gray;box-sizing: border-box;top: 0;bottom: 0;left: 50%;z-index: 0;}#sk-container-id-7 div.sk-serial {display: flex;flex-direction: column;align-items: center;background-color: white;padding-right: 0.2em;padding-left: 0.2em;position: relative;}#sk-container-id-7 div.sk-item {position: relative;z-index: 1;}#sk-container-id-7 div.sk-parallel {display: flex;align-items: stretch;justify-content: center;background-color: white;position: relative;}#sk-container-id-7 div.sk-item::before, #sk-container-id-7 div.sk-parallel-item::before {content: \"\";position: absolute;border-left: 1px solid gray;box-sizing: border-box;top: 0;bottom: 0;left: 50%;z-index: -1;}#sk-container-id-7 div.sk-parallel-item {display: flex;flex-direction: column;z-index: 1;position: relative;background-color: white;}#sk-container-id-7 div.sk-parallel-item:first-child::after {align-self: flex-end;width: 50%;}#sk-container-id-7 div.sk-parallel-item:last-child::after {align-self: flex-start;width: 50%;}#sk-container-id-7 div.sk-parallel-item:only-child::after {width: 0;}#sk-container-id-7 div.sk-dashed-wrapped {border: 1px dashed gray;margin: 0 0.4em 0.5em 0.4em;box-sizing: border-box;padding-bottom: 0.4em;background-color: white;}#sk-container-id-7 div.sk-label label {font-family: monospace;font-weight: bold;display: inline-block;line-height: 1.2em;}#sk-container-id-7 div.sk-label-container {text-align: center;}#sk-container-id-7 div.sk-container {/* jupyter's `normalize.less` sets `[hidden] { display: none; }` but bootstrap.min.css set `[hidden] { display: none !important; }` so we also need the `!important` here to be able to override the default hidden behavior on the sphinx rendered scikit-learn.org. See: https://github.com/scikit-learn/scikit-learn/issues/21755 */display: inline-block !important;position: relative;}#sk-container-id-7 div.sk-text-repr-fallback {display: none;}</style><div id=\"sk-container-id-7\" class=\"sk-top-container\"><div class=\"sk-text-repr-fallback\"><pre>DecisionTreeRegressor(criterion=&#x27;friedman_mse&#x27;, max_depth=2000, max_features=6,\n",
       "                      min_samples_split=3)</pre><b>In a Jupyter environment, please rerun this cell to show the HTML representation or trust the notebook. <br />On GitHub, the HTML representation is unable to render, please try loading this page with nbviewer.org.</b></div><div class=\"sk-container\" hidden><div class=\"sk-item\"><div class=\"sk-estimator sk-toggleable\"><input class=\"sk-toggleable__control sk-hidden--visually\" id=\"sk-estimator-id-13\" type=\"checkbox\" checked><label for=\"sk-estimator-id-13\" class=\"sk-toggleable__label sk-toggleable__label-arrow\">DecisionTreeRegressor</label><div class=\"sk-toggleable__content\"><pre>DecisionTreeRegressor(criterion=&#x27;friedman_mse&#x27;, max_depth=2000, max_features=6,\n",
       "                      min_samples_split=3)</pre></div></div></div></div></div>"
      ],
      "text/plain": [
       "DecisionTreeRegressor(criterion='friedman_mse', max_depth=2000, max_features=6,\n",
       "                      min_samples_split=3)"
      ]
     },
     "execution_count": 75,
     "metadata": {},
     "output_type": "execute_result"
    }
   ],
   "source": [
    "dtree_best.fit(X_train, y_train)"
   ]
  },
  {
   "cell_type": "code",
   "execution_count": 76,
   "id": "3dfd1ce3",
   "metadata": {},
   "outputs": [],
   "source": [
    "pred = dtree_best.predict(X_test)"
   ]
  },
  {
   "cell_type": "code",
   "execution_count": 77,
   "id": "f807f0eb",
   "metadata": {},
   "outputs": [
    {
     "name": "stdout",
     "output_type": "stream",
     "text": [
      "MAE: 0.22262948207171315\n"
     ]
    }
   ],
   "source": [
    "mae_dtree = mean_absolute_error(y_test, pred)\n",
    "print(f\"MAE: {mae_dtree}\")"
   ]
  },
  {
   "cell_type": "code",
   "execution_count": 78,
   "id": "fcb57cf7",
   "metadata": {},
   "outputs": [],
   "source": [
    "models.append((mae_dtree, dtree_best))"
   ]
  },
  {
   "cell_type": "markdown",
   "id": "e2d946f2",
   "metadata": {},
   "source": [
    "## k-Nearest Neighbors Regressor"
   ]
  },
  {
   "cell_type": "code",
   "execution_count": 79,
   "id": "f1a4cfc7",
   "metadata": {},
   "outputs": [],
   "source": [
    "from sklearn.neighbors import KNeighborsRegressor"
   ]
  },
  {
   "cell_type": "code",
   "execution_count": 80,
   "id": "b6bc90e5",
   "metadata": {},
   "outputs": [],
   "source": [
    "error_rate = []\n",
    "for i in range(1, 50):\n",
    "    knn = KNeighborsRegressor(n_neighbors=i)\n",
    "    knn.fit(X, y)\n",
    "    pred_i = knn.predict(X)\n",
    "    error_rate.append(np.mean(pred_i != y))"
   ]
  },
  {
   "cell_type": "code",
   "execution_count": 81,
   "id": "138c5d5c",
   "metadata": {},
   "outputs": [
    {
     "data": {
      "text/plain": [
       "[<matplotlib.lines.Line2D at 0x7f49833bc490>]"
      ]
     },
     "execution_count": 81,
     "metadata": {},
     "output_type": "execute_result"
    },
    {
     "data": {
      "image/png": "[encoded data removed]",
      "text/plain": [
       "<Figure size 1000x600 with 1 Axes>"
      ]
     },
     "metadata": {},
     "output_type": "display_data"
    }
   ],
   "source": [
    "plt.figure(figsize=(10,6))\n",
    "plt.title('Error Rate vs K Value')\n",
    "plt.xlabel('K')\n",
    "plt.ylabel('Error Rate')\n",
    "plt.plot(range(1, 50), error_rate, color='blue', linestyle='dashed', marker='o',\n",
    "         markerfacecolor='red', markersize=10)"
   ]
  },
  {
   "cell_type": "code",
   "execution_count": 82,
   "id": "ceb01113",
   "metadata": {},
   "outputs": [],
   "source": [
    "min_value_index = error_rate.index(min(filter(lambda x: x>0, error_rate)))"
   ]
  },
  {
   "cell_type": "code",
   "execution_count": 83,
   "id": "477b892b",
   "metadata": {},
   "outputs": [],
   "source": [
    "knn_best = KNeighborsRegressor(n_neighbors=min_value_index, algorithm='auto', leaf_size=1, metric='minkowski', p=1, weights='distance')"
   ]
  },
  {
   "cell_type": "markdown",
   "id": "940dba08",
   "metadata": {},
   "source": [
    "Best parameters after doing GridSearchCV."
   ]
  },
  {
   "attachments": {
    "Screenshot%20from%202023-02-06%2018-56-56.png": {
     "image/png": "[encoded data removed]"
    }
   },
   "cell_type": "markdown",
   "id": "651ff89f",
   "metadata": {},
   "source": [
    "![Screenshot%20from%202023-02-06%2018-56-56.png](attachment:Screenshot%20from%202023-02-06%2018-56-56.png)"
   ]
  },
  {
   "attachments": {
    "Screenshot%20from%202023-02-06%2018-57-11.png": {
     "image/png": "[encoded data removed]"
    }
   },
   "cell_type": "markdown",
   "id": "ebe9745f",
   "metadata": {},
   "source": [
    "![Screenshot%20from%202023-02-06%2018-57-11.png](attachment:Screenshot%20from%202023-02-06%2018-57-11.png)"
   ]
  },
  {
   "attachments": {
    "Screenshot%20from%202023-02-06%2018-57-47.png": {
     "image/png": "[encoded data removed]"
    }
   },
   "cell_type": "markdown",
   "id": "792d8bff",
   "metadata": {},
   "source": [
    "![Screenshot%20from%202023-02-06%2018-57-47.png](attachment:Screenshot%20from%202023-02-06%2018-57-47.png)"
   ]
  },
  {
   "cell_type": "markdown",
   "id": "056c1104",
   "metadata": {},
   "source": [
    "GridSeachCV is not needed anymore because we found the best parameters."
   ]
  },
  {
   "cell_type": "code",
   "execution_count": 84,
   "id": "6c58f694",
   "metadata": {},
   "outputs": [],
   "source": [
    "# grid_search = GridSearchCV(estimator=knn,\n",
    "#                            param_grid=parameters,\n",
    "#                            n_jobs=-1,\n",
    "#                            cv=10,\n",
    "#                            scoring='neg_mean_absolute_error',\n",
    "#                            error_score='raise')"
   ]
  },
  {
   "cell_type": "code",
   "execution_count": 85,
   "id": "1f877bda",
   "metadata": {},
   "outputs": [
    {
     "data": {
      "text/html": [
       "<style>#sk-container-id-8 {color: black;background-color: white;}#sk-container-id-8 pre{padding: 0;}#sk-container-id-8 div.sk-toggleable {background-color: white;}#sk-container-id-8 label.sk-toggleable__label {cursor: pointer;display: block;width: 100%;margin-bottom: 0;padding: 0.3em;box-sizing: border-box;text-align: center;}#sk-container-id-8 label.sk-toggleable__label-arrow:before {content: \"▸\";float: left;margin-right: 0.25em;color: #696969;}#sk-container-id-8 label.sk-toggleable__label-arrow:hover:before {color: black;}#sk-container-id-8 div.sk-estimator:hover label.sk-toggleable__label-arrow:before {color: black;}#sk-container-id-8 div.sk-toggleable__content {max-height: 0;max-width: 0;overflow: hidden;text-align: left;background-color: #f0f8ff;}#sk-container-id-8 div.sk-toggleable__content pre {margin: 0.2em;color: black;border-radius: 0.25em;background-color: #f0f8ff;}#sk-container-id-8 input.sk-toggleable__control:checked~div.sk-toggleable__content {max-height: 200px;max-width: 100%;overflow: auto;}#sk-container-id-8 input.sk-toggleable__control:checked~label.sk-toggleable__label-arrow:before {content: \"▾\";}#sk-container-id-8 div.sk-estimator input.sk-toggleable__control:checked~label.sk-toggleable__label {background-color: #d4ebff;}#sk-container-id-8 div.sk-label input.sk-toggleable__control:checked~label.sk-toggleable__label {background-color: #d4ebff;}#sk-container-id-8 input.sk-hidden--visually {border: 0;clip: rect(1px 1px 1px 1px);clip: rect(1px, 1px, 1px, 1px);height: 1px;margin: -1px;overflow: hidden;padding: 0;position: absolute;width: 1px;}#sk-container-id-8 div.sk-estimator {font-family: monospace;background-color: #f0f8ff;border: 1px dotted black;border-radius: 0.25em;box-sizing: border-box;margin-bottom: 0.5em;}#sk-container-id-8 div.sk-estimator:hover {background-color: #d4ebff;}#sk-container-id-8 div.sk-parallel-item::after {content: \"\";width: 100%;border-bottom: 1px solid gray;flex-grow: 1;}#sk-container-id-8 div.sk-label:hover label.sk-toggleable__label {background-color: #d4ebff;}#sk-container-id-8 div.sk-serial::before {content: \"\";position: absolute;border-left: 1px solid gray;box-sizing: border-box;top: 0;bottom: 0;left: 50%;z-index: 0;}#sk-container-id-8 div.sk-serial {display: flex;flex-direction: column;align-items: center;background-color: white;padding-right: 0.2em;padding-left: 0.2em;position: relative;}#sk-container-id-8 div.sk-item {position: relative;z-index: 1;}#sk-container-id-8 div.sk-parallel {display: flex;align-items: stretch;justify-content: center;background-color: white;position: relative;}#sk-container-id-8 div.sk-item::before, #sk-container-id-8 div.sk-parallel-item::before {content: \"\";position: absolute;border-left: 1px solid gray;box-sizing: border-box;top: 0;bottom: 0;left: 50%;z-index: -1;}#sk-container-id-8 div.sk-parallel-item {display: flex;flex-direction: column;z-index: 1;position: relative;background-color: white;}#sk-container-id-8 div.sk-parallel-item:first-child::after {align-self: flex-end;width: 50%;}#sk-container-id-8 div.sk-parallel-item:last-child::after {align-self: flex-start;width: 50%;}#sk-container-id-8 div.sk-parallel-item:only-child::after {width: 0;}#sk-container-id-8 div.sk-dashed-wrapped {border: 1px dashed gray;margin: 0 0.4em 0.5em 0.4em;box-sizing: border-box;padding-bottom: 0.4em;background-color: white;}#sk-container-id-8 div.sk-label label {font-family: monospace;font-weight: bold;display: inline-block;line-height: 1.2em;}#sk-container-id-8 div.sk-label-container {text-align: center;}#sk-container-id-8 div.sk-container {/* jupyter's `normalize.less` sets `[hidden] { display: none; }` but bootstrap.min.css set `[hidden] { display: none !important; }` so we also need the `!important` here to be able to override the default hidden behavior on the sphinx rendered scikit-learn.org. See: https://github.com/scikit-learn/scikit-learn/issues/21755 */display: inline-block !important;position: relative;}#sk-container-id-8 div.sk-text-repr-fallback {display: none;}</style><div id=\"sk-container-id-8\" class=\"sk-top-container\"><div class=\"sk-text-repr-fallback\"><pre>KNeighborsRegressor(leaf_size=1, n_neighbors=1, p=1, weights=&#x27;distance&#x27;)</pre><b>In a Jupyter environment, please rerun this cell to show the HTML representation or trust the notebook. <br />On GitHub, the HTML representation is unable to render, please try loading this page with nbviewer.org.</b></div><div class=\"sk-container\" hidden><div class=\"sk-item\"><div class=\"sk-estimator sk-toggleable\"><input class=\"sk-toggleable__control sk-hidden--visually\" id=\"sk-estimator-id-14\" type=\"checkbox\" checked><label for=\"sk-estimator-id-14\" class=\"sk-toggleable__label sk-toggleable__label-arrow\">KNeighborsRegressor</label><div class=\"sk-toggleable__content\"><pre>KNeighborsRegressor(leaf_size=1, n_neighbors=1, p=1, weights=&#x27;distance&#x27;)</pre></div></div></div></div></div>"
      ],
      "text/plain": [
       "KNeighborsRegressor(leaf_size=1, n_neighbors=1, p=1, weights='distance')"
      ]
     },
     "execution_count": 85,
     "metadata": {},
     "output_type": "execute_result"
    }
   ],
   "source": [
    "knn_best.fit(X_train, y_train)"
   ]
  },
  {
   "cell_type": "code",
   "execution_count": 86,
   "id": "0ad6b49e",
   "metadata": {},
   "outputs": [],
   "source": [
    "pred = knn_best.predict(X_test)"
   ]
  },
  {
   "cell_type": "code",
   "execution_count": 87,
   "id": "6f98c97c",
   "metadata": {},
   "outputs": [
    {
     "name": "stdout",
     "output_type": "stream",
     "text": [
      "MAE: 0.11613545816733066\n"
     ]
    }
   ],
   "source": [
    "mae_knn = mean_absolute_error(y_test, pred)\n",
    "print(f\"MAE: {mae_knn}\")"
   ]
  },
  {
   "cell_type": "code",
   "execution_count": 88,
   "id": "22a11fc5",
   "metadata": {},
   "outputs": [],
   "source": [
    "models.append((mae_knn, knn_best))"
   ]
  },
  {
   "cell_type": "markdown",
   "id": "59975a43",
   "metadata": {},
   "source": [
    "## SVM"
   ]
  },
  {
   "cell_type": "code",
   "execution_count": 89,
   "id": "198f7c89",
   "metadata": {},
   "outputs": [],
   "source": [
    "from sklearn.svm import SVR"
   ]
  },
  {
   "cell_type": "code",
   "execution_count": 90,
   "id": "4b03981b",
   "metadata": {},
   "outputs": [],
   "source": [
    "svr_best = SVR(kernel='rbf', gamma=0.1, C=7)"
   ]
  },
  {
   "cell_type": "code",
   "execution_count": 91,
   "id": "14f34ac9",
   "metadata": {},
   "outputs": [
    {
     "data": {
      "text/html": [
       "<style>#sk-container-id-9 {color: black;background-color: white;}#sk-container-id-9 pre{padding: 0;}#sk-container-id-9 div.sk-toggleable {background-color: white;}#sk-container-id-9 label.sk-toggleable__label {cursor: pointer;display: block;width: 100%;margin-bottom: 0;padding: 0.3em;box-sizing: border-box;text-align: center;}#sk-container-id-9 label.sk-toggleable__label-arrow:before {content: \"▸\";float: left;margin-right: 0.25em;color: #696969;}#sk-container-id-9 label.sk-toggleable__label-arrow:hover:before {color: black;}#sk-container-id-9 div.sk-estimator:hover label.sk-toggleable__label-arrow:before {color: black;}#sk-container-id-9 div.sk-toggleable__content {max-height: 0;max-width: 0;overflow: hidden;text-align: left;background-color: #f0f8ff;}#sk-container-id-9 div.sk-toggleable__content pre {margin: 0.2em;color: black;border-radius: 0.25em;background-color: #f0f8ff;}#sk-container-id-9 input.sk-toggleable__control:checked~div.sk-toggleable__content {max-height: 200px;max-width: 100%;overflow: auto;}#sk-container-id-9 input.sk-toggleable__control:checked~label.sk-toggleable__label-arrow:before {content: \"▾\";}#sk-container-id-9 div.sk-estimator input.sk-toggleable__control:checked~label.sk-toggleable__label {background-color: #d4ebff;}#sk-container-id-9 div.sk-label input.sk-toggleable__control:checked~label.sk-toggleable__label {background-color: #d4ebff;}#sk-container-id-9 input.sk-hidden--visually {border: 0;clip: rect(1px 1px 1px 1px);clip: rect(1px, 1px, 1px, 1px);height: 1px;margin: -1px;overflow: hidden;padding: 0;position: absolute;width: 1px;}#sk-container-id-9 div.sk-estimator {font-family: monospace;background-color: #f0f8ff;border: 1px dotted black;border-radius: 0.25em;box-sizing: border-box;margin-bottom: 0.5em;}#sk-container-id-9 div.sk-estimator:hover {background-color: #d4ebff;}#sk-container-id-9 div.sk-parallel-item::after {content: \"\";width: 100%;border-bottom: 1px solid gray;flex-grow: 1;}#sk-container-id-9 div.sk-label:hover label.sk-toggleable__label {background-color: #d4ebff;}#sk-container-id-9 div.sk-serial::before {content: \"\";position: absolute;border-left: 1px solid gray;box-sizing: border-box;top: 0;bottom: 0;left: 50%;z-index: 0;}#sk-container-id-9 div.sk-serial {display: flex;flex-direction: column;align-items: center;background-color: white;padding-right: 0.2em;padding-left: 0.2em;position: relative;}#sk-container-id-9 div.sk-item {position: relative;z-index: 1;}#sk-container-id-9 div.sk-parallel {display: flex;align-items: stretch;justify-content: center;background-color: white;position: relative;}#sk-container-id-9 div.sk-item::before, #sk-container-id-9 div.sk-parallel-item::before {content: \"\";position: absolute;border-left: 1px solid gray;box-sizing: border-box;top: 0;bottom: 0;left: 50%;z-index: -1;}#sk-container-id-9 div.sk-parallel-item {display: flex;flex-direction: column;z-index: 1;position: relative;background-color: white;}#sk-container-id-9 div.sk-parallel-item:first-child::after {align-self: flex-end;width: 50%;}#sk-container-id-9 div.sk-parallel-item:last-child::after {align-self: flex-start;width: 50%;}#sk-container-id-9 div.sk-parallel-item:only-child::after {width: 0;}#sk-container-id-9 div.sk-dashed-wrapped {border: 1px dashed gray;margin: 0 0.4em 0.5em 0.4em;box-sizing: border-box;padding-bottom: 0.4em;background-color: white;}#sk-container-id-9 div.sk-label label {font-family: monospace;font-weight: bold;display: inline-block;line-height: 1.2em;}#sk-container-id-9 div.sk-label-container {text-align: center;}#sk-container-id-9 div.sk-container {/* jupyter's `normalize.less` sets `[hidden] { display: none; }` but bootstrap.min.css set `[hidden] { display: none !important; }` so we also need the `!important` here to be able to override the default hidden behavior on the sphinx rendered scikit-learn.org. See: https://github.com/scikit-learn/scikit-learn/issues/21755 */display: inline-block !important;position: relative;}#sk-container-id-9 div.sk-text-repr-fallback {display: none;}</style><div id=\"sk-container-id-9\" class=\"sk-top-container\"><div class=\"sk-text-repr-fallback\"><pre>SVR(C=7, gamma=0.1)</pre><b>In a Jupyter environment, please rerun this cell to show the HTML representation or trust the notebook. <br />On GitHub, the HTML representation is unable to render, please try loading this page with nbviewer.org.</b></div><div class=\"sk-container\" hidden><div class=\"sk-item\"><div class=\"sk-estimator sk-toggleable\"><input class=\"sk-toggleable__control sk-hidden--visually\" id=\"sk-estimator-id-15\" type=\"checkbox\" checked><label for=\"sk-estimator-id-15\" class=\"sk-toggleable__label sk-toggleable__label-arrow\">SVR</label><div class=\"sk-toggleable__content\"><pre>SVR(C=7, gamma=0.1)</pre></div></div></div></div></div>"
      ],
      "text/plain": [
       "SVR(C=7, gamma=0.1)"
      ]
     },
     "execution_count": 91,
     "metadata": {},
     "output_type": "execute_result"
    }
   ],
   "source": [
    "svr_best.fit(X_train, y_train)"
   ]
  },
  {
   "cell_type": "code",
   "execution_count": 92,
   "id": "5a08b226",
   "metadata": {},
   "outputs": [],
   "source": [
    "pred = svr_best.predict(X_test)"
   ]
  },
  {
   "cell_type": "code",
   "execution_count": 93,
   "id": "f8782316",
   "metadata": {},
   "outputs": [
    {
     "name": "stdout",
     "output_type": "stream",
     "text": [
      "MAE: 0.2482951918968942\n"
     ]
    }
   ],
   "source": [
    "mae_svr = mean_absolute_error(y_test, pred)\n",
    "print(f\"MAE: {mae_svr}\")"
   ]
  },
  {
   "cell_type": "code",
   "execution_count": 94,
   "id": "4639d36c",
   "metadata": {},
   "outputs": [],
   "source": [
    "models.append((mae_svr, svr_best))"
   ]
  },
  {
   "cell_type": "markdown",
   "id": "e3f488e7",
   "metadata": {},
   "source": [
    "## Multi-layer Perceptron Regressor"
   ]
  },
  {
   "cell_type": "code",
   "execution_count": 95,
   "id": "84d4990e",
   "metadata": {},
   "outputs": [],
   "source": [
    "from sklearn.neural_network import MLPRegressor"
   ]
  },
  {
   "cell_type": "code",
   "execution_count": 96,
   "id": "91c8e008",
   "metadata": {},
   "outputs": [],
   "source": [
    "mlp_best = MLPRegressor(max_iter=10000, activation='relu', solver='lbfgs', alpha=1, hidden_layer_sizes=(100,100))"
   ]
  },
  {
   "cell_type": "code",
   "execution_count": 97,
   "id": "50cd0f94",
   "metadata": {},
   "outputs": [
    {
     "data": {
      "text/html": [
       "<style>#sk-container-id-10 {color: black;background-color: white;}#sk-container-id-10 pre{padding: 0;}#sk-container-id-10 div.sk-toggleable {background-color: white;}#sk-container-id-10 label.sk-toggleable__label {cursor: pointer;display: block;width: 100%;margin-bottom: 0;padding: 0.3em;box-sizing: border-box;text-align: center;}#sk-container-id-10 label.sk-toggleable__label-arrow:before {content: \"▸\";float: left;margin-right: 0.25em;color: #696969;}#sk-container-id-10 label.sk-toggleable__label-arrow:hover:before {color: black;}#sk-container-id-10 div.sk-estimator:hover label.sk-toggleable__label-arrow:before {color: black;}#sk-container-id-10 div.sk-toggleable__content {max-height: 0;max-width: 0;overflow: hidden;text-align: left;background-color: #f0f8ff;}#sk-container-id-10 div.sk-toggleable__content pre {margin: 0.2em;color: black;border-radius: 0.25em;background-color: #f0f8ff;}#sk-container-id-10 input.sk-toggleable__control:checked~div.sk-toggleable__content {max-height: 200px;max-width: 100%;overflow: auto;}#sk-container-id-10 input.sk-toggleable__control:checked~label.sk-toggleable__label-arrow:before {content: \"▾\";}#sk-container-id-10 div.sk-estimator input.sk-toggleable__control:checked~label.sk-toggleable__label {background-color: #d4ebff;}#sk-container-id-10 div.sk-label input.sk-toggleable__control:checked~label.sk-toggleable__label {background-color: #d4ebff;}#sk-container-id-10 input.sk-hidden--visually {border: 0;clip: rect(1px 1px 1px 1px);clip: rect(1px, 1px, 1px, 1px);height: 1px;margin: -1px;overflow: hidden;padding: 0;position: absolute;width: 1px;}#sk-container-id-10 div.sk-estimator {font-family: monospace;background-color: #f0f8ff;border: 1px dotted black;border-radius: 0.25em;box-sizing: border-box;margin-bottom: 0.5em;}#sk-container-id-10 div.sk-estimator:hover {background-color: #d4ebff;}#sk-container-id-10 div.sk-parallel-item::after {content: \"\";width: 100%;border-bottom: 1px solid gray;flex-grow: 1;}#sk-container-id-10 div.sk-label:hover label.sk-toggleable__label {background-color: #d4ebff;}#sk-container-id-10 div.sk-serial::before {content: \"\";position: absolute;border-left: 1px solid gray;box-sizing: border-box;top: 0;bottom: 0;left: 50%;z-index: 0;}#sk-container-id-10 div.sk-serial {display: flex;flex-direction: column;align-items: center;background-color: white;padding-right: 0.2em;padding-left: 0.2em;position: relative;}#sk-container-id-10 div.sk-item {position: relative;z-index: 1;}#sk-container-id-10 div.sk-parallel {display: flex;align-items: stretch;justify-content: center;background-color: white;position: relative;}#sk-container-id-10 div.sk-item::before, #sk-container-id-10 div.sk-parallel-item::before {content: \"\";position: absolute;border-left: 1px solid gray;box-sizing: border-box;top: 0;bottom: 0;left: 50%;z-index: -1;}#sk-container-id-10 div.sk-parallel-item {display: flex;flex-direction: column;z-index: 1;position: relative;background-color: white;}#sk-container-id-10 div.sk-parallel-item:first-child::after {align-self: flex-end;width: 50%;}#sk-container-id-10 div.sk-parallel-item:last-child::after {align-self: flex-start;width: 50%;}#sk-container-id-10 div.sk-parallel-item:only-child::after {width: 0;}#sk-container-id-10 div.sk-dashed-wrapped {border: 1px dashed gray;margin: 0 0.4em 0.5em 0.4em;box-sizing: border-box;padding-bottom: 0.4em;background-color: white;}#sk-container-id-10 div.sk-label label {font-family: monospace;font-weight: bold;display: inline-block;line-height: 1.2em;}#sk-container-id-10 div.sk-label-container {text-align: center;}#sk-container-id-10 div.sk-container {/* jupyter's `normalize.less` sets `[hidden] { display: none; }` but bootstrap.min.css set `[hidden] { display: none !important; }` so we also need the `!important` here to be able to override the default hidden behavior on the sphinx rendered scikit-learn.org. See: https://github.com/scikit-learn/scikit-learn/issues/21755 */display: inline-block !important;position: relative;}#sk-container-id-10 div.sk-text-repr-fallback {display: none;}</style><div id=\"sk-container-id-10\" class=\"sk-top-container\"><div class=\"sk-text-repr-fallback\"><pre>MLPRegressor(alpha=1, hidden_layer_sizes=(100, 100), max_iter=10000,\n",
       "             solver=&#x27;lbfgs&#x27;)</pre><b>In a Jupyter environment, please rerun this cell to show the HTML representation or trust the notebook. <br />On GitHub, the HTML representation is unable to render, please try loading this page with nbviewer.org.</b></div><div class=\"sk-container\" hidden><div class=\"sk-item\"><div class=\"sk-estimator sk-toggleable\"><input class=\"sk-toggleable__control sk-hidden--visually\" id=\"sk-estimator-id-16\" type=\"checkbox\" checked><label for=\"sk-estimator-id-16\" class=\"sk-toggleable__label sk-toggleable__label-arrow\">MLPRegressor</label><div class=\"sk-toggleable__content\"><pre>MLPRegressor(alpha=1, hidden_layer_sizes=(100, 100), max_iter=10000,\n",
       "             solver=&#x27;lbfgs&#x27;)</pre></div></div></div></div></div>"
      ],
      "text/plain": [
       "MLPRegressor(alpha=1, hidden_layer_sizes=(100, 100), max_iter=10000,\n",
       "             solver='lbfgs')"
      ]
     },
     "execution_count": 97,
     "metadata": {},
     "output_type": "execute_result"
    }
   ],
   "source": [
    "mlp_best.fit(X_train, y_train)"
   ]
  },
  {
   "cell_type": "code",
   "execution_count": 98,
   "id": "7fab02f0",
   "metadata": {},
   "outputs": [],
   "source": [
    "pred = mlp_best.predict(X_test)"
   ]
  },
  {
   "cell_type": "code",
   "execution_count": 99,
   "id": "af8b8f1e",
   "metadata": {},
   "outputs": [
    {
     "name": "stdout",
     "output_type": "stream",
     "text": [
      "MAE: 0.21463801527925638\n"
     ]
    }
   ],
   "source": [
    "mae_mlp = mean_absolute_error(y_test, pred)\n",
    "print(f\"MAE: {mae_mlp}\")"
   ]
  },
  {
   "cell_type": "code",
   "execution_count": 100,
   "id": "c821e300",
   "metadata": {},
   "outputs": [],
   "source": [
    "models.append((mae_mlp, mlp_best))"
   ]
  },
  {
   "cell_type": "markdown",
   "id": "115d6c7c",
   "metadata": {},
   "source": [
    "## Evaluating choosen model on a test data"
   ]
  },
  {
   "cell_type": "code",
   "execution_count": 101,
   "id": "4d7d4ff1",
   "metadata": {},
   "outputs": [],
   "source": [
    "with warnings.catch_warnings(record=True):\n",
    "    test_df_prep = pd.read_excel(\"Test_preprocessed.xlsx\", engine=\"openpyxl\")"
   ]
  },
  {
   "cell_type": "code",
   "execution_count": 102,
   "id": "1f4e4447",
   "metadata": {},
   "outputs": [
    {
     "data": {
      "text/plain": [
       "False"
      ]
     },
     "execution_count": 102,
     "metadata": {},
     "output_type": "execute_result"
    }
   ],
   "source": [
    "(test_df_prep.isnull().sum() > 0).any()"
   ]
  },
  {
   "cell_type": "code",
   "execution_count": 103,
   "id": "5bede6f6",
   "metadata": {},
   "outputs": [],
   "source": [
    "sec = test_df_prep['second']\n",
    "test_df_prep_no_sec = test_df_prep.drop('second', axis=1)"
   ]
  },
  {
   "cell_type": "code",
   "execution_count": 104,
   "id": "5e0635cf",
   "metadata": {},
   "outputs": [
    {
     "data": {
      "text/html": [
       "<style>#sk-container-id-11 {color: black;background-color: white;}#sk-container-id-11 pre{padding: 0;}#sk-container-id-11 div.sk-toggleable {background-color: white;}#sk-container-id-11 label.sk-toggleable__label {cursor: pointer;display: block;width: 100%;margin-bottom: 0;padding: 0.3em;box-sizing: border-box;text-align: center;}#sk-container-id-11 label.sk-toggleable__label-arrow:before {content: \"▸\";float: left;margin-right: 0.25em;color: #696969;}#sk-container-id-11 label.sk-toggleable__label-arrow:hover:before {color: black;}#sk-container-id-11 div.sk-estimator:hover label.sk-toggleable__label-arrow:before {color: black;}#sk-container-id-11 div.sk-toggleable__content {max-height: 0;max-width: 0;overflow: hidden;text-align: left;background-color: #f0f8ff;}#sk-container-id-11 div.sk-toggleable__content pre {margin: 0.2em;color: black;border-radius: 0.25em;background-color: #f0f8ff;}#sk-container-id-11 input.sk-toggleable__control:checked~div.sk-toggleable__content {max-height: 200px;max-width: 100%;overflow: auto;}#sk-container-id-11 input.sk-toggleable__control:checked~label.sk-toggleable__label-arrow:before {content: \"▾\";}#sk-container-id-11 div.sk-estimator input.sk-toggleable__control:checked~label.sk-toggleable__label {background-color: #d4ebff;}#sk-container-id-11 div.sk-label input.sk-toggleable__control:checked~label.sk-toggleable__label {background-color: #d4ebff;}#sk-container-id-11 input.sk-hidden--visually {border: 0;clip: rect(1px 1px 1px 1px);clip: rect(1px, 1px, 1px, 1px);height: 1px;margin: -1px;overflow: hidden;padding: 0;position: absolute;width: 1px;}#sk-container-id-11 div.sk-estimator {font-family: monospace;background-color: #f0f8ff;border: 1px dotted black;border-radius: 0.25em;box-sizing: border-box;margin-bottom: 0.5em;}#sk-container-id-11 div.sk-estimator:hover {background-color: #d4ebff;}#sk-container-id-11 div.sk-parallel-item::after {content: \"\";width: 100%;border-bottom: 1px solid gray;flex-grow: 1;}#sk-container-id-11 div.sk-label:hover label.sk-toggleable__label {background-color: #d4ebff;}#sk-container-id-11 div.sk-serial::before {content: \"\";position: absolute;border-left: 1px solid gray;box-sizing: border-box;top: 0;bottom: 0;left: 50%;z-index: 0;}#sk-container-id-11 div.sk-serial {display: flex;flex-direction: column;align-items: center;background-color: white;padding-right: 0.2em;padding-left: 0.2em;position: relative;}#sk-container-id-11 div.sk-item {position: relative;z-index: 1;}#sk-container-id-11 div.sk-parallel {display: flex;align-items: stretch;justify-content: center;background-color: white;position: relative;}#sk-container-id-11 div.sk-item::before, #sk-container-id-11 div.sk-parallel-item::before {content: \"\";position: absolute;border-left: 1px solid gray;box-sizing: border-box;top: 0;bottom: 0;left: 50%;z-index: -1;}#sk-container-id-11 div.sk-parallel-item {display: flex;flex-direction: column;z-index: 1;position: relative;background-color: white;}#sk-container-id-11 div.sk-parallel-item:first-child::after {align-self: flex-end;width: 50%;}#sk-container-id-11 div.sk-parallel-item:last-child::after {align-self: flex-start;width: 50%;}#sk-container-id-11 div.sk-parallel-item:only-child::after {width: 0;}#sk-container-id-11 div.sk-dashed-wrapped {border: 1px dashed gray;margin: 0 0.4em 0.5em 0.4em;box-sizing: border-box;padding-bottom: 0.4em;background-color: white;}#sk-container-id-11 div.sk-label label {font-family: monospace;font-weight: bold;display: inline-block;line-height: 1.2em;}#sk-container-id-11 div.sk-label-container {text-align: center;}#sk-container-id-11 div.sk-container {/* jupyter's `normalize.less` sets `[hidden] { display: none; }` but bootstrap.min.css set `[hidden] { display: none !important; }` so we also need the `!important` here to be able to override the default hidden behavior on the sphinx rendered scikit-learn.org. See: https://github.com/scikit-learn/scikit-learn/issues/21755 */display: inline-block !important;position: relative;}#sk-container-id-11 div.sk-text-repr-fallback {display: none;}</style><div id=\"sk-container-id-11\" class=\"sk-top-container\"><div class=\"sk-text-repr-fallback\"><pre>RobustScaler()</pre><b>In a Jupyter environment, please rerun this cell to show the HTML representation or trust the notebook. <br />On GitHub, the HTML representation is unable to render, please try loading this page with nbviewer.org.</b></div><div class=\"sk-container\" hidden><div class=\"sk-item\"><div class=\"sk-estimator sk-toggleable\"><input class=\"sk-toggleable__control sk-hidden--visually\" id=\"sk-estimator-id-17\" type=\"checkbox\" checked><label for=\"sk-estimator-id-17\" class=\"sk-toggleable__label sk-toggleable__label-arrow\">RobustScaler</label><div class=\"sk-toggleable__content\"><pre>RobustScaler()</pre></div></div></div></div></div>"
      ],
      "text/plain": [
       "RobustScaler()"
      ]
     },
     "execution_count": 104,
     "metadata": {},
     "output_type": "execute_result"
    }
   ],
   "source": [
    "scaler.fit(test_df_prep_no_sec)"
   ]
  },
  {
   "cell_type": "code",
   "execution_count": 105,
   "id": "b828c97d",
   "metadata": {},
   "outputs": [],
   "source": [
    "scaled_test_features = scaler.fit_transform(test_df_prep_no_sec)"
   ]
  },
  {
   "cell_type": "code",
   "execution_count": 106,
   "id": "9e388249",
   "metadata": {},
   "outputs": [],
   "source": [
    "scaled_test_set = pd.DataFrame(scaled_test_features, columns=test_df_prep_no_sec.columns)"
   ]
  },
  {
   "cell_type": "code",
   "execution_count": 107,
   "id": "831a5e56",
   "metadata": {},
   "outputs": [
    {
     "name": "stderr",
     "output_type": "stream",
     "text": [
      "/home/szymon/Studia_AGH/Semestr_5/ML/Machine_learning_course_UNINA/venv/lib/python3.10/site-packages/sklearn/base.py:413: UserWarning: X has feature names, but SelectFromModel was fitted without feature names\n",
      "  warnings.warn(\n"
     ]
    },
    {
     "data": {
      "text/html": [
       "<div>\n",
       "<style scoped>\n",
       "    .dataframe tbody tr th:only-of-type {\n",
       "        vertical-align: middle;\n",
       "    }\n",
       "\n",
       "    .dataframe tbody tr th {\n",
       "        vertical-align: top;\n",
       "    }\n",
       "\n",
       "    .dataframe thead th {\n",
       "        text-align: right;\n",
       "    }\n",
       "</style>\n",
       "<table border=\"1\" class=\"dataframe\">\n",
       "  <thead>\n",
       "    <tr style=\"text-align: right;\">\n",
       "      <th></th>\n",
       "      <th>val_0_min</th>\n",
       "      <th>val_1_min</th>\n",
       "      <th>val_2_min</th>\n",
       "      <th>val_3_min</th>\n",
       "      <th>val_4_min</th>\n",
       "      <th>val_0_max</th>\n",
       "      <th>val_2_max</th>\n",
       "      <th>val_3_max</th>\n",
       "      <th>val_4_max</th>\n",
       "      <th>val_5_max</th>\n",
       "      <th>val_5_mean</th>\n",
       "      <th>val_0_med</th>\n",
       "      <th>val_2_med</th>\n",
       "      <th>val_3_med</th>\n",
       "      <th>val_4_std</th>\n",
       "      <th>val_4_var</th>\n",
       "    </tr>\n",
       "  </thead>\n",
       "  <tbody>\n",
       "    <tr>\n",
       "      <th>0</th>\n",
       "      <td>1.75</td>\n",
       "      <td>1.8</td>\n",
       "      <td>1.333333</td>\n",
       "      <td>2.00</td>\n",
       "      <td>1.411765</td>\n",
       "      <td>-0.852273</td>\n",
       "      <td>-0.042781</td>\n",
       "      <td>-0.972222</td>\n",
       "      <td>-0.546169</td>\n",
       "      <td>-4.400000</td>\n",
       "      <td>-0.411159</td>\n",
       "      <td>0.295302</td>\n",
       "      <td>0.662338</td>\n",
       "      <td>0.738693</td>\n",
       "      <td>-0.321195</td>\n",
       "      <td>-0.176549</td>\n",
       "    </tr>\n",
       "    <tr>\n",
       "      <th>1</th>\n",
       "      <td>-0.25</td>\n",
       "      <td>0.0</td>\n",
       "      <td>0.666667</td>\n",
       "      <td>1.00</td>\n",
       "      <td>0.000000</td>\n",
       "      <td>-0.897727</td>\n",
       "      <td>-0.106952</td>\n",
       "      <td>-1.111111</td>\n",
       "      <td>-0.522593</td>\n",
       "      <td>-4.200000</td>\n",
       "      <td>-0.527569</td>\n",
       "      <td>-0.322148</td>\n",
       "      <td>0.623377</td>\n",
       "      <td>0.691792</td>\n",
       "      <td>-0.225626</td>\n",
       "      <td>-0.136877</td>\n",
       "    </tr>\n",
       "    <tr>\n",
       "      <th>2</th>\n",
       "      <td>-0.25</td>\n",
       "      <td>-0.2</td>\n",
       "      <td>-0.166667</td>\n",
       "      <td>0.00</td>\n",
       "      <td>-0.235294</td>\n",
       "      <td>-0.920455</td>\n",
       "      <td>-0.235294</td>\n",
       "      <td>-1.277778</td>\n",
       "      <td>-0.616896</td>\n",
       "      <td>-4.142857</td>\n",
       "      <td>-0.423444</td>\n",
       "      <td>0.026846</td>\n",
       "      <td>-0.285714</td>\n",
       "      <td>-0.118928</td>\n",
       "      <td>-0.398915</td>\n",
       "      <td>-0.200782</td>\n",
       "    </tr>\n",
       "    <tr>\n",
       "      <th>3</th>\n",
       "      <td>-0.25</td>\n",
       "      <td>-0.4</td>\n",
       "      <td>-0.333333</td>\n",
       "      <td>-0.25</td>\n",
       "      <td>-0.470588</td>\n",
       "      <td>-0.920455</td>\n",
       "      <td>-0.299465</td>\n",
       "      <td>-1.472222</td>\n",
       "      <td>-0.656189</td>\n",
       "      <td>-4.114286</td>\n",
       "      <td>-0.542618</td>\n",
       "      <td>-0.375839</td>\n",
       "      <td>-0.337662</td>\n",
       "      <td>-0.139028</td>\n",
       "      <td>-0.464926</td>\n",
       "      <td>-0.215707</td>\n",
       "    </tr>\n",
       "    <tr>\n",
       "      <th>4</th>\n",
       "      <td>-0.25</td>\n",
       "      <td>0.0</td>\n",
       "      <td>0.500000</td>\n",
       "      <td>0.50</td>\n",
       "      <td>0.000000</td>\n",
       "      <td>-0.965909</td>\n",
       "      <td>-0.106952</td>\n",
       "      <td>-1.111111</td>\n",
       "      <td>-0.538310</td>\n",
       "      <td>-4.400000</td>\n",
       "      <td>-0.534164</td>\n",
       "      <td>-0.322148</td>\n",
       "      <td>0.623377</td>\n",
       "      <td>0.678392</td>\n",
       "      <td>-0.222059</td>\n",
       "      <td>-0.135185</td>\n",
       "    </tr>\n",
       "  </tbody>\n",
       "</table>\n",
       "</div>"
      ],
      "text/plain": [
       "   val_0_min  val_1_min  val_2_min  val_3_min  val_4_min  val_0_max  \\\n",
       "0       1.75        1.8   1.333333       2.00   1.411765  -0.852273   \n",
       "1      -0.25        0.0   0.666667       1.00   0.000000  -0.897727   \n",
       "2      -0.25       -0.2  -0.166667       0.00  -0.235294  -0.920455   \n",
       "3      -0.25       -0.4  -0.333333      -0.25  -0.470588  -0.920455   \n",
       "4      -0.25        0.0   0.500000       0.50   0.000000  -0.965909   \n",
       "\n",
       "   val_2_max  val_3_max  val_4_max  val_5_max  val_5_mean  val_0_med  \\\n",
       "0  -0.042781  -0.972222  -0.546169  -4.400000   -0.411159   0.295302   \n",
       "1  -0.106952  -1.111111  -0.522593  -4.200000   -0.527569  -0.322148   \n",
       "2  -0.235294  -1.277778  -0.616896  -4.142857   -0.423444   0.026846   \n",
       "3  -0.299465  -1.472222  -0.656189  -4.114286   -0.542618  -0.375839   \n",
       "4  -0.106952  -1.111111  -0.538310  -4.400000   -0.534164  -0.322148   \n",
       "\n",
       "   val_2_med  val_3_med  val_4_std  val_4_var  \n",
       "0   0.662338   0.738693  -0.321195  -0.176549  \n",
       "1   0.623377   0.691792  -0.225626  -0.136877  \n",
       "2  -0.285714  -0.118928  -0.398915  -0.200782  \n",
       "3  -0.337662  -0.139028  -0.464926  -0.215707  \n",
       "4   0.623377   0.678392  -0.222059  -0.135185  "
      ]
     },
     "execution_count": 107,
     "metadata": {},
     "output_type": "execute_result"
    }
   ],
   "source": [
    "scaled_test_set = pd.DataFrame(data=selector.transform(scaled_test_set), columns=scaled_test_set.columns[selector.get_support()])\n",
    "scaled_test_set.head()"
   ]
  },
  {
   "cell_type": "markdown",
   "id": "f403e227",
   "metadata": {},
   "source": [
    "### Selecting the best model"
   ]
  },
  {
   "cell_type": "code",
   "execution_count": 108,
   "id": "22d857ab",
   "metadata": {},
   "outputs": [],
   "source": [
    "from operator import itemgetter"
   ]
  },
  {
   "cell_type": "code",
   "execution_count": 109,
   "id": "cf2e4a90",
   "metadata": {},
   "outputs": [],
   "source": [
    "best_model = min(models, key=itemgetter(0))[1]"
   ]
  },
  {
   "cell_type": "code",
   "execution_count": 110,
   "id": "fc0f0ab2",
   "metadata": {},
   "outputs": [
    {
     "data": {
      "text/html": [
       "<style>#sk-container-id-12 {color: black;background-color: white;}#sk-container-id-12 pre{padding: 0;}#sk-container-id-12 div.sk-toggleable {background-color: white;}#sk-container-id-12 label.sk-toggleable__label {cursor: pointer;display: block;width: 100%;margin-bottom: 0;padding: 0.3em;box-sizing: border-box;text-align: center;}#sk-container-id-12 label.sk-toggleable__label-arrow:before {content: \"▸\";float: left;margin-right: 0.25em;color: #696969;}#sk-container-id-12 label.sk-toggleable__label-arrow:hover:before {color: black;}#sk-container-id-12 div.sk-estimator:hover label.sk-toggleable__label-arrow:before {color: black;}#sk-container-id-12 div.sk-toggleable__content {max-height: 0;max-width: 0;overflow: hidden;text-align: left;background-color: #f0f8ff;}#sk-container-id-12 div.sk-toggleable__content pre {margin: 0.2em;color: black;border-radius: 0.25em;background-color: #f0f8ff;}#sk-container-id-12 input.sk-toggleable__control:checked~div.sk-toggleable__content {max-height: 200px;max-width: 100%;overflow: auto;}#sk-container-id-12 input.sk-toggleable__control:checked~label.sk-toggleable__label-arrow:before {content: \"▾\";}#sk-container-id-12 div.sk-estimator input.sk-toggleable__control:checked~label.sk-toggleable__label {background-color: #d4ebff;}#sk-container-id-12 div.sk-label input.sk-toggleable__control:checked~label.sk-toggleable__label {background-color: #d4ebff;}#sk-container-id-12 input.sk-hidden--visually {border: 0;clip: rect(1px 1px 1px 1px);clip: rect(1px, 1px, 1px, 1px);height: 1px;margin: -1px;overflow: hidden;padding: 0;position: absolute;width: 1px;}#sk-container-id-12 div.sk-estimator {font-family: monospace;background-color: #f0f8ff;border: 1px dotted black;border-radius: 0.25em;box-sizing: border-box;margin-bottom: 0.5em;}#sk-container-id-12 div.sk-estimator:hover {background-color: #d4ebff;}#sk-container-id-12 div.sk-parallel-item::after {content: \"\";width: 100%;border-bottom: 1px solid gray;flex-grow: 1;}#sk-container-id-12 div.sk-label:hover label.sk-toggleable__label {background-color: #d4ebff;}#sk-container-id-12 div.sk-serial::before {content: \"\";position: absolute;border-left: 1px solid gray;box-sizing: border-box;top: 0;bottom: 0;left: 50%;z-index: 0;}#sk-container-id-12 div.sk-serial {display: flex;flex-direction: column;align-items: center;background-color: white;padding-right: 0.2em;padding-left: 0.2em;position: relative;}#sk-container-id-12 div.sk-item {position: relative;z-index: 1;}#sk-container-id-12 div.sk-parallel {display: flex;align-items: stretch;justify-content: center;background-color: white;position: relative;}#sk-container-id-12 div.sk-item::before, #sk-container-id-12 div.sk-parallel-item::before {content: \"\";position: absolute;border-left: 1px solid gray;box-sizing: border-box;top: 0;bottom: 0;left: 50%;z-index: -1;}#sk-container-id-12 div.sk-parallel-item {display: flex;flex-direction: column;z-index: 1;position: relative;background-color: white;}#sk-container-id-12 div.sk-parallel-item:first-child::after {align-self: flex-end;width: 50%;}#sk-container-id-12 div.sk-parallel-item:last-child::after {align-self: flex-start;width: 50%;}#sk-container-id-12 div.sk-parallel-item:only-child::after {width: 0;}#sk-container-id-12 div.sk-dashed-wrapped {border: 1px dashed gray;margin: 0 0.4em 0.5em 0.4em;box-sizing: border-box;padding-bottom: 0.4em;background-color: white;}#sk-container-id-12 div.sk-label label {font-family: monospace;font-weight: bold;display: inline-block;line-height: 1.2em;}#sk-container-id-12 div.sk-label-container {text-align: center;}#sk-container-id-12 div.sk-container {/* jupyter's `normalize.less` sets `[hidden] { display: none; }` but bootstrap.min.css set `[hidden] { display: none !important; }` so we also need the `!important` here to be able to override the default hidden behavior on the sphinx rendered scikit-learn.org. See: https://github.com/scikit-learn/scikit-learn/issues/21755 */display: inline-block !important;position: relative;}#sk-container-id-12 div.sk-text-repr-fallback {display: none;}</style><div id=\"sk-container-id-12\" class=\"sk-top-container\"><div class=\"sk-text-repr-fallback\"><pre>KNeighborsRegressor(leaf_size=1, n_neighbors=1, p=1, weights=&#x27;distance&#x27;)</pre><b>In a Jupyter environment, please rerun this cell to show the HTML representation or trust the notebook. <br />On GitHub, the HTML representation is unable to render, please try loading this page with nbviewer.org.</b></div><div class=\"sk-container\" hidden><div class=\"sk-item\"><div class=\"sk-estimator sk-toggleable\"><input class=\"sk-toggleable__control sk-hidden--visually\" id=\"sk-estimator-id-18\" type=\"checkbox\" checked><label for=\"sk-estimator-id-18\" class=\"sk-toggleable__label sk-toggleable__label-arrow\">KNeighborsRegressor</label><div class=\"sk-toggleable__content\"><pre>KNeighborsRegressor(leaf_size=1, n_neighbors=1, p=1, weights=&#x27;distance&#x27;)</pre></div></div></div></div></div>"
      ],
      "text/plain": [
       "KNeighborsRegressor(leaf_size=1, n_neighbors=1, p=1, weights='distance')"
      ]
     },
     "execution_count": 110,
     "metadata": {},
     "output_type": "execute_result"
    }
   ],
   "source": [
    "best_model"
   ]
  },
  {
   "cell_type": "code",
   "execution_count": 111,
   "id": "d84c541c",
   "metadata": {},
   "outputs": [],
   "source": [
    "test_pred = best_model.predict(scaled_test_set)"
   ]
  },
  {
   "cell_type": "code",
   "execution_count": 112,
   "id": "9197d4df",
   "metadata": {},
   "outputs": [],
   "source": [
    "final_pred = pd.DataFrame(data={'second': sec,\n",
    "                                'RQ': pd.Series(test_pred)})\n",
    "final_pred.to_csv(\"mini_contest_2_results.csv\", index=False)"
   ]
  }
 ],
 "metadata": {
  "kernelspec": {
   "display_name": "Python 3 (ipykernel)",
   "language": "python",
   "name": "python3"
  },
  "language_info": {
   "codemirror_mode": {
    "name": "ipython",
    "version": 3
   },
   "file_extension": ".py",
   "mimetype": "text/x-python",
   "name": "python",
   "nbconvert_exporter": "python",
   "pygments_lexer": "ipython3",
   "version": "3.10.6"
  }
 },
 "nbformat": 4,
 "nbformat_minor": 5
}
